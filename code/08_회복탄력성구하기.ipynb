{
 "cells": [
  {
   "cell_type": "code",
   "execution_count": null,
   "metadata": {
    "id": "_5Fvj3amokTl"
   },
   "outputs": [],
   "source": [
    "import pandas as pd\n",
    "import numpy as np\n",
    "import math"
   ]
  },
  {
   "cell_type": "code",
   "execution_count": null,
   "metadata": {
    "id": "oSgT0-IgpbOS"
   },
   "outputs": [],
   "source": [
    "cluster = pd.read_csv('data/중극장_군집분석.csv', encoding='cp949')\n",
    "recover = pd.read_csv('data/충격지점이후분석.csv')"
   ]
  },
  {
   "cell_type": "markdown",
   "metadata": {
    "id": "v-PkSJP0zZZN"
   },
   "source": [
    "## Cluster 값 조인"
   ]
  },
  {
   "cell_type": "code",
   "execution_count": null,
   "metadata": {
    "id": "dJqph6g70zVc"
   },
   "outputs": [],
   "source": [
    "cluster= recover.merge(cluster[['공연시설코드', 'cluster']], on='공연시설코드', how='left')"
   ]
  },
  {
   "cell_type": "code",
   "execution_count": null,
   "metadata": {
    "id": "QEQs9wED5ESx",
    "outputId": "27604397-c35e-47e4-c558-aecdca0ae4e6"
   },
   "outputs": [
    {
     "data": {
      "text/html": [
       "<div>\n",
       "<style scoped>\n",
       "    .dataframe tbody tr th:only-of-type {\n",
       "        vertical-align: middle;\n",
       "    }\n",
       "\n",
       "    .dataframe tbody tr th {\n",
       "        vertical-align: top;\n",
       "    }\n",
       "\n",
       "    .dataframe thead th {\n",
       "        text-align: right;\n",
       "    }\n",
       "</style>\n",
       "<table border=\"1\" class=\"dataframe\">\n",
       "  <thead>\n",
       "    <tr style=\"text-align: right;\">\n",
       "      <th></th>\n",
       "      <th>공연시설코드</th>\n",
       "      <th>충격반응력</th>\n",
       "      <th>충격회복력</th>\n",
       "      <th>cluster</th>\n",
       "    </tr>\n",
       "  </thead>\n",
       "  <tbody>\n",
       "    <tr>\n",
       "      <th>0</th>\n",
       "      <td>FC222007</td>\n",
       "      <td>0.999441</td>\n",
       "      <td>838.051600</td>\n",
       "      <td>1.0</td>\n",
       "    </tr>\n",
       "    <tr>\n",
       "      <th>1</th>\n",
       "      <td>FC222040</td>\n",
       "      <td>0.887045</td>\n",
       "      <td>2.596457</td>\n",
       "      <td>0.0</td>\n",
       "    </tr>\n",
       "    <tr>\n",
       "      <th>2</th>\n",
       "      <td>FC222048</td>\n",
       "      <td>0.996858</td>\n",
       "      <td>53.153837</td>\n",
       "      <td>1.0</td>\n",
       "    </tr>\n",
       "    <tr>\n",
       "      <th>3</th>\n",
       "      <td>FC222049</td>\n",
       "      <td>0.000000</td>\n",
       "      <td>0.000000</td>\n",
       "      <td>0.0</td>\n",
       "    </tr>\n",
       "    <tr>\n",
       "      <th>4</th>\n",
       "      <td>FC222054</td>\n",
       "      <td>0.965359</td>\n",
       "      <td>2.864677</td>\n",
       "      <td>0.0</td>\n",
       "    </tr>\n",
       "    <tr>\n",
       "      <th>...</th>\n",
       "      <td>...</td>\n",
       "      <td>...</td>\n",
       "      <td>...</td>\n",
       "      <td>...</td>\n",
       "    </tr>\n",
       "    <tr>\n",
       "      <th>133</th>\n",
       "      <td>FC223909</td>\n",
       "      <td>0.991397</td>\n",
       "      <td>16.383527</td>\n",
       "      <td>0.0</td>\n",
       "    </tr>\n",
       "    <tr>\n",
       "      <th>134</th>\n",
       "      <td>FC223941</td>\n",
       "      <td>0.000000</td>\n",
       "      <td>0.000000</td>\n",
       "      <td>1.0</td>\n",
       "    </tr>\n",
       "    <tr>\n",
       "      <th>135</th>\n",
       "      <td>FC224381</td>\n",
       "      <td>0.000000</td>\n",
       "      <td>0.000000</td>\n",
       "      <td>1.0</td>\n",
       "    </tr>\n",
       "    <tr>\n",
       "      <th>136</th>\n",
       "      <td>FC224454</td>\n",
       "      <td>0.000000</td>\n",
       "      <td>0.000000</td>\n",
       "      <td>1.0</td>\n",
       "    </tr>\n",
       "    <tr>\n",
       "      <th>137</th>\n",
       "      <td>FC224496</td>\n",
       "      <td>0.000000</td>\n",
       "      <td>0.000000</td>\n",
       "      <td>0.0</td>\n",
       "    </tr>\n",
       "  </tbody>\n",
       "</table>\n",
       "<p>138 rows × 4 columns</p>\n",
       "</div>"
      ],
      "text/plain": [
       "       공연시설코드     충격반응력       충격회복력  cluster\n",
       "0    FC222007  0.999441  838.051600      1.0\n",
       "1    FC222040  0.887045    2.596457      0.0\n",
       "2    FC222048  0.996858   53.153837      1.0\n",
       "3    FC222049  0.000000    0.000000      0.0\n",
       "4    FC222054  0.965359    2.864677      0.0\n",
       "..        ...       ...         ...      ...\n",
       "133  FC223909  0.991397   16.383527      0.0\n",
       "134  FC223941  0.000000    0.000000      1.0\n",
       "135  FC224381  0.000000    0.000000      1.0\n",
       "136  FC224454  0.000000    0.000000      1.0\n",
       "137  FC224496  0.000000    0.000000      0.0\n",
       "\n",
       "[138 rows x 4 columns]"
      ]
     },
     "execution_count": 65,
     "metadata": {},
     "output_type": "execute_result"
    }
   ],
   "source": [
    "cluster"
   ]
  },
  {
   "cell_type": "code",
   "execution_count": null,
   "metadata": {
    "colab": {
     "base_uri": "https://localhost:8080/",
     "height": 143
    },
    "id": "5iF3HZoJXSMf",
    "outputId": "290bf232-2091-4355-a38c-80b8844d87bd"
   },
   "outputs": [
    {
     "data": {
      "text/html": [
       "<div>\n",
       "<style scoped>\n",
       "    .dataframe tbody tr th:only-of-type {\n",
       "        vertical-align: middle;\n",
       "    }\n",
       "\n",
       "    .dataframe tbody tr th {\n",
       "        vertical-align: top;\n",
       "    }\n",
       "\n",
       "    .dataframe thead th {\n",
       "        text-align: right;\n",
       "    }\n",
       "</style>\n",
       "<table border=\"1\" class=\"dataframe\">\n",
       "  <thead>\n",
       "    <tr style=\"text-align: right;\">\n",
       "      <th></th>\n",
       "      <th>충격회복력</th>\n",
       "      <th>충격반응력</th>\n",
       "    </tr>\n",
       "    <tr>\n",
       "      <th>cluster</th>\n",
       "      <th></th>\n",
       "      <th></th>\n",
       "    </tr>\n",
       "  </thead>\n",
       "  <tbody>\n",
       "    <tr>\n",
       "      <th>0.0</th>\n",
       "      <td>0.090933</td>\n",
       "      <td>0.114183</td>\n",
       "    </tr>\n",
       "    <tr>\n",
       "      <th>1.0</th>\n",
       "      <td>0.542680</td>\n",
       "      <td>0.250000</td>\n",
       "    </tr>\n",
       "  </tbody>\n",
       "</table>\n",
       "</div>"
      ],
      "text/plain": [
       "            충격회복력     충격반응력\n",
       "cluster                    \n",
       "0.0      0.090933  0.114183\n",
       "1.0      0.542680  0.250000"
      ]
     },
     "execution_count": 120,
     "metadata": {},
     "output_type": "execute_result"
    }
   ],
   "source": [
    "data = cluster[(cluster['충격회복력']!=0)&(cluster['충격회복력']!=-100)]\n",
    "minvalue = data.groupby('cluster')[['충격회복력', '충격반응력']].min()\n",
    "minvalue"
   ]
  },
  {
   "cell_type": "code",
   "execution_count": null,
   "metadata": {
    "id": "ObpJuIcZ5ESy"
   },
   "outputs": [],
   "source": [
    "c0_recovery_min=minvalue.iloc[0,0]\n",
    "c0_response_min=minvalue.iloc[0,1]\n",
    "c1_recovery_min=minvalue.iloc[1,0]\n",
    "c1_response_min=minvalue.iloc[1,1]"
   ]
  },
  {
   "cell_type": "code",
   "execution_count": null,
   "metadata": {
    "id": "vcPxXOgp5ESy",
    "outputId": "6a32f9c8-2a54-4611-ae16-2ec0918de672"
   },
   "outputs": [
    {
     "name": "stderr",
     "output_type": "stream",
     "text": [
      "C:\\Users\\ohke7\\AppData\\Local\\Temp\\ipykernel_18232\\3992247558.py:7: FutureWarning: Calling float on a single element Series is deprecated and will raise a TypeError in the future. Use float(ser.iloc[0]) instead\n",
      "  ratio=math.log((cluster[cluster['공연시설코드']==theater]['충격회복력']-c1_recovery_min+0.0001)/(cluster[cluster['공연시설코드']==theater]['충격반응력']-c1_response_min+0.0001))\n",
      "C:\\Users\\ohke7\\AppData\\Local\\Temp\\ipykernel_18232\\3992247558.py:5: FutureWarning: Calling float on a single element Series is deprecated and will raise a TypeError in the future. Use float(ser.iloc[0]) instead\n",
      "  ratio=math.log((cluster[cluster['공연시설코드']==theater]['충격회복력']-c0_recovery_min+0.0001)/(cluster[cluster['공연시설코드']==theater]['충격반응력']-c0_response_min+0.0001))\n"
     ]
    }
   ],
   "source": [
    "final_ratio=[]\n",
    "theaters = cluster['공연시설코드'].unique()\n",
    "for theater in theaters:\n",
    "    if cluster[cluster['공연시설코드']==theater]['cluster'].iloc[0]==0:\n",
    "        ratio=math.log((cluster[cluster['공연시설코드']==theater]['충격회복력']-c0_recovery_min+0.0001)/(cluster[cluster['공연시설코드']==theater]['충격반응력']-c0_response_min+0.0001))\n",
    "    else:\n",
    "        ratio=math.log((cluster[cluster['공연시설코드']==theater]['충격회복력']-c1_recovery_min+0.0001)/(cluster[cluster['공연시설코드']==theater]['충격반응력']-c1_response_min+0.0001))\n",
    "    final_ratio.append(ratio)\n",
    "cluster['ratio']=final_ratio\n"
   ]
  },
  {
   "cell_type": "code",
   "execution_count": null,
   "metadata": {
    "id": "_Zi2S15G5ESz",
    "outputId": "28a81fdf-c6a9-4fac-d0b7-d9f83a095b69"
   },
   "outputs": [
    {
     "data": {
      "text/html": [
       "<div>\n",
       "<style scoped>\n",
       "    .dataframe tbody tr th:only-of-type {\n",
       "        vertical-align: middle;\n",
       "    }\n",
       "\n",
       "    .dataframe tbody tr th {\n",
       "        vertical-align: top;\n",
       "    }\n",
       "\n",
       "    .dataframe thead tr th {\n",
       "        text-align: left;\n",
       "    }\n",
       "\n",
       "    .dataframe thead tr:last-of-type th {\n",
       "        text-align: right;\n",
       "    }\n",
       "</style>\n",
       "<table border=\"1\" class=\"dataframe\">\n",
       "  <thead>\n",
       "    <tr>\n",
       "      <th></th>\n",
       "      <th colspan=\"2\" halign=\"left\">ratio</th>\n",
       "    </tr>\n",
       "    <tr>\n",
       "      <th></th>\n",
       "      <th>mean</th>\n",
       "      <th>std</th>\n",
       "    </tr>\n",
       "    <tr>\n",
       "      <th>cluster</th>\n",
       "      <th></th>\n",
       "      <th></th>\n",
       "    </tr>\n",
       "  </thead>\n",
       "  <tbody>\n",
       "    <tr>\n",
       "      <th>0.0</th>\n",
       "      <td>2.289903</td>\n",
       "      <td>1.696174</td>\n",
       "    </tr>\n",
       "    <tr>\n",
       "      <th>1.0</th>\n",
       "      <td>2.384379</td>\n",
       "      <td>2.853239</td>\n",
       "    </tr>\n",
       "  </tbody>\n",
       "</table>\n",
       "</div>"
      ],
      "text/plain": [
       "            ratio          \n",
       "             mean       std\n",
       "cluster                    \n",
       "0.0      2.289903  1.696174\n",
       "1.0      2.384379  2.853239"
      ]
     },
     "execution_count": 123,
     "metadata": {},
     "output_type": "execute_result"
    }
   ],
   "source": [
    "data = cluster[(cluster['충격회복력']!=0)&(cluster['충격회복력']!=-100)]\n",
    "ratiosummary = data.groupby('cluster')[['ratio']].agg(['mean', 'std'])\n",
    "ratiosummary"
   ]
  },
  {
   "cell_type": "code",
   "execution_count": null,
   "metadata": {
    "id": "u7NtBuIg5ESz"
   },
   "outputs": [],
   "source": [
    "c0_aver=ratiosummary.iloc[0,0]\n",
    "c0_stdev=ratiosummary.iloc[0,1]\n",
    "c1_aver=ratiosummary.iloc[1,0]\n",
    "c1_stdev=ratiosummary.iloc[1,1]"
   ]
  },
  {
   "cell_type": "code",
   "execution_count": null,
   "metadata": {
    "id": "CL5P4PA85ESz"
   },
   "outputs": [],
   "source": [
    "final_resilience=[]\n",
    "theaters = cluster['공연시설코드'].unique()\n",
    "for theater in theaters:\n",
    "    if cluster[cluster['공연시설코드']==theater]['cluster'].iloc[0]==0:\n",
    "        resilience=(cluster[cluster['공연시설코드']==theater]['ratio']-c0_aver)/c0_stdev\n",
    "    else:\n",
    "        resilience=(cluster[cluster['공연시설코드']==theater]['ratio']-c1_aver)/c1_stdev\n",
    "    final_resilience.append(resilience.iloc[0])\n",
    "cluster['resilience']=final_resilience\n"
   ]
  },
  {
   "cell_type": "code",
   "execution_count": null,
   "metadata": {
    "id": "xeYpZySq5ESz",
    "outputId": "54234c4f-1a94-42be-c860-f96e83d63aff"
   },
   "outputs": [
    {
     "data": {
      "text/html": [
       "<div>\n",
       "<style scoped>\n",
       "    .dataframe tbody tr th:only-of-type {\n",
       "        vertical-align: middle;\n",
       "    }\n",
       "\n",
       "    .dataframe tbody tr th {\n",
       "        vertical-align: top;\n",
       "    }\n",
       "\n",
       "    .dataframe thead th {\n",
       "        text-align: right;\n",
       "    }\n",
       "</style>\n",
       "<table border=\"1\" class=\"dataframe\">\n",
       "  <thead>\n",
       "    <tr style=\"text-align: right;\">\n",
       "      <th></th>\n",
       "      <th>공연시설코드</th>\n",
       "      <th>감소폭</th>\n",
       "      <th>감소기간</th>\n",
       "      <th>최저지점이후회복기간</th>\n",
       "      <th>총기간</th>\n",
       "      <th>충격반응력</th>\n",
       "      <th>충격회복력</th>\n",
       "      <th>cluster</th>\n",
       "      <th>ratio</th>\n",
       "      <th>resilience</th>\n",
       "    </tr>\n",
       "  </thead>\n",
       "  <tbody>\n",
       "    <tr>\n",
       "      <th>0</th>\n",
       "      <td>FC222007</td>\n",
       "      <td>17867850.0</td>\n",
       "      <td>15</td>\n",
       "      <td>6</td>\n",
       "      <td>21</td>\n",
       "      <td>0.999441</td>\n",
       "      <td>838.051600</td>\n",
       "      <td>1.0</td>\n",
       "      <td>7.018727</td>\n",
       "      <td>1.624241</td>\n",
       "    </tr>\n",
       "    <tr>\n",
       "      <th>1</th>\n",
       "      <td>FC222040</td>\n",
       "      <td>3548180.0</td>\n",
       "      <td>12</td>\n",
       "      <td>9</td>\n",
       "      <td>21</td>\n",
       "      <td>0.887045</td>\n",
       "      <td>2.596457</td>\n",
       "      <td>0.0</td>\n",
       "      <td>1.176063</td>\n",
       "      <td>-0.656679</td>\n",
       "    </tr>\n",
       "    <tr>\n",
       "      <th>2</th>\n",
       "      <td>FC222048</td>\n",
       "      <td>31731533.0</td>\n",
       "      <td>2</td>\n",
       "      <td>12</td>\n",
       "      <td>14</td>\n",
       "      <td>0.996858</td>\n",
       "      <td>53.153837</td>\n",
       "      <td>1.0</td>\n",
       "      <td>4.254676</td>\n",
       "      <td>0.655500</td>\n",
       "    </tr>\n",
       "    <tr>\n",
       "      <th>3</th>\n",
       "      <td>FC222049</td>\n",
       "      <td>0.0</td>\n",
       "      <td>0</td>\n",
       "      <td>0</td>\n",
       "      <td>0</td>\n",
       "      <td>0.000000</td>\n",
       "      <td>0.000000</td>\n",
       "      <td>0.0</td>\n",
       "      <td>-0.227898</td>\n",
       "      <td>-1.484401</td>\n",
       "    </tr>\n",
       "    <tr>\n",
       "      <th>4</th>\n",
       "      <td>FC222054</td>\n",
       "      <td>10366874.0</td>\n",
       "      <td>4</td>\n",
       "      <td>10</td>\n",
       "      <td>14</td>\n",
       "      <td>0.965359</td>\n",
       "      <td>2.864677</td>\n",
       "      <td>0.0</td>\n",
       "      <td>1.181252</td>\n",
       "      <td>-0.653619</td>\n",
       "    </tr>\n",
       "    <tr>\n",
       "      <th>...</th>\n",
       "      <td>...</td>\n",
       "      <td>...</td>\n",
       "      <td>...</td>\n",
       "      <td>...</td>\n",
       "      <td>...</td>\n",
       "      <td>...</td>\n",
       "      <td>...</td>\n",
       "      <td>...</td>\n",
       "      <td>...</td>\n",
       "      <td>...</td>\n",
       "    </tr>\n",
       "    <tr>\n",
       "      <th>133</th>\n",
       "      <td>FC223909</td>\n",
       "      <td>108654235.0</td>\n",
       "      <td>4</td>\n",
       "      <td>22</td>\n",
       "      <td>26</td>\n",
       "      <td>0.991397</td>\n",
       "      <td>16.383527</td>\n",
       "      <td>0.0</td>\n",
       "      <td>2.921606</td>\n",
       "      <td>0.372428</td>\n",
       "    </tr>\n",
       "    <tr>\n",
       "      <th>134</th>\n",
       "      <td>FC223941</td>\n",
       "      <td>0.0</td>\n",
       "      <td>0</td>\n",
       "      <td>0</td>\n",
       "      <td>0</td>\n",
       "      <td>0.000000</td>\n",
       "      <td>0.000000</td>\n",
       "      <td>1.0</td>\n",
       "      <td>0.775274</td>\n",
       "      <td>-0.563957</td>\n",
       "    </tr>\n",
       "    <tr>\n",
       "      <th>135</th>\n",
       "      <td>FC224381</td>\n",
       "      <td>0.0</td>\n",
       "      <td>0</td>\n",
       "      <td>0</td>\n",
       "      <td>0</td>\n",
       "      <td>0.000000</td>\n",
       "      <td>0.000000</td>\n",
       "      <td>1.0</td>\n",
       "      <td>0.775274</td>\n",
       "      <td>-0.563957</td>\n",
       "    </tr>\n",
       "    <tr>\n",
       "      <th>136</th>\n",
       "      <td>FC224454</td>\n",
       "      <td>0.0</td>\n",
       "      <td>0</td>\n",
       "      <td>0</td>\n",
       "      <td>0</td>\n",
       "      <td>0.000000</td>\n",
       "      <td>0.000000</td>\n",
       "      <td>1.0</td>\n",
       "      <td>0.775274</td>\n",
       "      <td>-0.563957</td>\n",
       "    </tr>\n",
       "    <tr>\n",
       "      <th>137</th>\n",
       "      <td>FC224496</td>\n",
       "      <td>0.0</td>\n",
       "      <td>0</td>\n",
       "      <td>0</td>\n",
       "      <td>0</td>\n",
       "      <td>0.000000</td>\n",
       "      <td>0.000000</td>\n",
       "      <td>0.0</td>\n",
       "      <td>-0.227898</td>\n",
       "      <td>-1.484401</td>\n",
       "    </tr>\n",
       "  </tbody>\n",
       "</table>\n",
       "<p>138 rows × 10 columns</p>\n",
       "</div>"
      ],
      "text/plain": [
       "       공연시설코드          감소폭  감소기간  최저지점이후회복기간  총기간     충격반응력       충격회복력   \n",
       "0    FC222007   17867850.0    15           6   21  0.999441  838.051600  \\\n",
       "1    FC222040    3548180.0    12           9   21  0.887045    2.596457   \n",
       "2    FC222048   31731533.0     2          12   14  0.996858   53.153837   \n",
       "3    FC222049          0.0     0           0    0  0.000000    0.000000   \n",
       "4    FC222054   10366874.0     4          10   14  0.965359    2.864677   \n",
       "..        ...          ...   ...         ...  ...       ...         ...   \n",
       "133  FC223909  108654235.0     4          22   26  0.991397   16.383527   \n",
       "134  FC223941          0.0     0           0    0  0.000000    0.000000   \n",
       "135  FC224381          0.0     0           0    0  0.000000    0.000000   \n",
       "136  FC224454          0.0     0           0    0  0.000000    0.000000   \n",
       "137  FC224496          0.0     0           0    0  0.000000    0.000000   \n",
       "\n",
       "     cluster     ratio  resilience  \n",
       "0        1.0  7.018727    1.624241  \n",
       "1        0.0  1.176063   -0.656679  \n",
       "2        1.0  4.254676    0.655500  \n",
       "3        0.0 -0.227898   -1.484401  \n",
       "4        0.0  1.181252   -0.653619  \n",
       "..       ...       ...         ...  \n",
       "133      0.0  2.921606    0.372428  \n",
       "134      1.0  0.775274   -0.563957  \n",
       "135      1.0  0.775274   -0.563957  \n",
       "136      1.0  0.775274   -0.563957  \n",
       "137      0.0 -0.227898   -1.484401  \n",
       "\n",
       "[138 rows x 10 columns]"
      ]
     },
     "execution_count": 75,
     "metadata": {},
     "output_type": "execute_result"
    }
   ],
   "source": [
    "cluster"
   ]
  },
  {
   "cell_type": "code",
   "execution_count": null,
   "metadata": {
    "id": "UYgX1CuZZquG"
   },
   "outputs": [],
   "source": [
    "# cluster.to_csv(\"Medium_Theater_0_Reflection_X.csv\", index=False)"
   ]
  },
  {
   "cell_type": "code",
   "execution_count": null,
   "metadata": {
    "id": "clPpcl5V5ESz",
    "outputId": "e291135c-af98-4870-a661-17995d4d98a3"
   },
   "outputs": [
    {
     "data": {
      "text/html": [
       "<div>\n",
       "<style scoped>\n",
       "    .dataframe tbody tr th:only-of-type {\n",
       "        vertical-align: middle;\n",
       "    }\n",
       "\n",
       "    .dataframe tbody tr th {\n",
       "        vertical-align: top;\n",
       "    }\n",
       "\n",
       "    .dataframe thead th {\n",
       "        text-align: right;\n",
       "    }\n",
       "</style>\n",
       "<table border=\"1\" class=\"dataframe\">\n",
       "  <thead>\n",
       "    <tr style=\"text-align: right;\">\n",
       "      <th></th>\n",
       "      <th>감소폭</th>\n",
       "      <th>감소기간</th>\n",
       "      <th>최저지점이후회복기간</th>\n",
       "      <th>총기간</th>\n",
       "      <th>충격반응력</th>\n",
       "      <th>충격회복력</th>\n",
       "      <th>ratio</th>\n",
       "      <th>resilience</th>\n",
       "    </tr>\n",
       "    <tr>\n",
       "      <th>cluster</th>\n",
       "      <th></th>\n",
       "      <th></th>\n",
       "      <th></th>\n",
       "      <th></th>\n",
       "      <th></th>\n",
       "      <th></th>\n",
       "      <th></th>\n",
       "      <th></th>\n",
       "    </tr>\n",
       "  </thead>\n",
       "  <tbody>\n",
       "    <tr>\n",
       "      <th>0.0</th>\n",
       "      <td>1.852476e+07</td>\n",
       "      <td>7.244444</td>\n",
       "      <td>8.733333</td>\n",
       "      <td>15.977778</td>\n",
       "      <td>0.862335</td>\n",
       "      <td>35.339623</td>\n",
       "      <td>2.289903</td>\n",
       "      <td>-1.690006e-16</td>\n",
       "    </tr>\n",
       "    <tr>\n",
       "      <th>1.0</th>\n",
       "      <td>9.605339e+06</td>\n",
       "      <td>11.256410</td>\n",
       "      <td>6.743590</td>\n",
       "      <td>18.000000</td>\n",
       "      <td>0.866736</td>\n",
       "      <td>37.966301</td>\n",
       "      <td>2.384379</td>\n",
       "      <td>-1.441155e-16</td>\n",
       "    </tr>\n",
       "  </tbody>\n",
       "</table>\n",
       "</div>"
      ],
      "text/plain": [
       "                  감소폭       감소기간  최저지점이후회복기간        총기간     충격반응력      충격회복력   \n",
       "cluster                                                                        \n",
       "0.0      1.852476e+07   7.244444    8.733333  15.977778  0.862335  35.339623  \\\n",
       "1.0      9.605339e+06  11.256410    6.743590  18.000000  0.866736  37.966301   \n",
       "\n",
       "            ratio    resilience  \n",
       "cluster                          \n",
       "0.0      2.289903 -1.690006e-16  \n",
       "1.0      2.384379 -1.441155e-16  "
      ]
     },
     "execution_count": 126,
     "metadata": {},
     "output_type": "execute_result"
    }
   ],
   "source": [
    "data = cluster[(cluster['충격회복력']!=0)&(cluster['충격회복력']!=-100)&(np.isnan(cluster['cluster'])==False)]\n",
    "ratiosummary = data.groupby('cluster')[['감소폭', '감소기간', '최저지점이후회복기간', '총기간', '충격반응력', '충격회복력', 'ratio','resilience']].agg('mean')\n",
    "ratiosummary"
   ]
  },
  {
   "cell_type": "code",
   "execution_count": null,
   "metadata": {
    "id": "GpHZpGAr5ESz",
    "outputId": "a56c730a-be23-4e8a-a1f0-c06da67401bc"
   },
   "outputs": [
    {
     "data": {
      "text/plain": [
       "-1.6900061597071826e-16"
      ]
     },
     "execution_count": 53,
     "metadata": {},
     "output_type": "execute_result"
    }
   ],
   "source": [
    "ratiosummary.iloc[0,7] #표준화를 했기 때문에 0에 가까운 수치임"
   ]
  },
  {
   "cell_type": "markdown",
   "metadata": {
    "id": "blO_L8Wq5ES0"
   },
   "source": [
    "# 회복점수구하기"
   ]
  },
  {
   "cell_type": "markdown",
   "metadata": {
    "id": "UwcHv6Jj5ES0"
   },
   "source": [
    "## original"
   ]
  },
  {
   "cell_type": "code",
   "execution_count": null,
   "metadata": {
    "id": "sDb3zojL5ES0",
    "outputId": "6a840bfc-804b-4b57-ac29-d983d6f90a33"
   },
   "outputs": [
    {
     "name": "stdout",
     "output_type": "stream",
     "text": [
      "Score: 1.6242411612883911, Percentile: 65.12589465628491\n",
      "Score: -0.6566785657693849, Percentile: 55.790878529187424\n",
      "Score: 0.655499518882575, Percentile: 61.01679282930905\n",
      "Score: -0.6536190531985638, Percentile: 55.79490663846433\n",
      "Score: -1.2507388914953785, Percentile: 52.98177699759682\n",
      "Score: 0.47586184914747603, Percentile: 60.23399828860748\n",
      "Score: -1.1614577279510603, Percentile: 53.196548542820594\n",
      "Score: 0.6908200217883215, Percentile: 61.48427463054757\n",
      "Score: 0.03399366762309262, Percentile: 58.64072410218873\n",
      "Score: 0.03771705925043745, Percentile: 58.64612581168582\n",
      "Score: 0.6173549664889608, Percentile: 60.5119335381492\n",
      "Score: -0.419915747734688, Percentile: 56.24226151800847\n",
      "Score: 3.0460793607526973, Percentile: 100.0\n",
      "Score: 0.7868752696785185, Percentile: 61.9851988983364\n",
      "Score: -0.18701484914099223, Percentile: 56.79107284290377\n",
      "Score: -0.2187151097005295, Percentile: 56.77613958498761\n",
      "Score: 1.682035951978928, Percentile: 65.50367281052577\n",
      "Score: -0.8489755784826477, Percentile: 53.890860562106354\n",
      "Score: -0.3412929693503657, Percentile: 56.6131693965082\n",
      "Score: 0.015292339929963376, Percentile: 58.528718151830155\n",
      "Score: 2.3316637316830997, Percentile: 71.93296996579048\n",
      "Score: 1.3954866352901327, Percentile: 64.12537638626958\n",
      "Score: -0.02888133355368153, Percentile: 58.15697780112261\n",
      "Score: 0.5706282688253685, Percentile: 60.43292811219066\n",
      "Score: -0.16458284488083874, Percentile: 56.80164004012173\n",
      "Score: 0.2014650440460329, Percentile: 59.14963006260715\n",
      "Score: 1.0250856326158222, Percentile: 62.732706060772145\n",
      "Score: -0.38739852586457424, Percentile: 56.465414687539344\n",
      "Score: -0.5869633888347734, Percentile: 55.81398723779693\n",
      "Score: -0.5368342386135171, Percentile: 55.81982278001349\n",
      "Score: -0.6470838409582088, Percentile: 55.8035108028345\n",
      "Score: -0.6400768865707704, Percentile: 55.8087824607024\n",
      "Score: 0.9859876237862936, Percentile: 62.56922688120015\n",
      "Score: 0.27253749909760255, Percentile: 59.41149125709571\n",
      "Score: -0.029453182875210347, Percentile: 58.15216544456332\n",
      "Score: 0.4982798235815873, Percentile: 60.30041233851362\n",
      "Score: -0.24928841110321348, Percentile: 56.75752662897064\n",
      "Score: 0.2229658235283806, Percentile: 59.2288480914989\n",
      "Score: 0.5395920767128343, Percentile: 60.40438787894924\n",
      "Score: -1.0904465046277974, Percentile: 53.436639629078975\n",
      "Score: -3.9134718541651567, Percentile: 0.0\n",
      "Score: 0.04046606793566553, Percentile: 58.650113935366804\n",
      "Score: -0.3957550558871869, Percentile: 56.42179796315038\n",
      "Score: 1.9697317760912996, Percentile: 67.13484142197375\n",
      "Score: 0.7533298986309227, Percentile: 61.832086123552465\n",
      "Score: 0.23536494667250282, Percentile: 59.274531742004214\n",
      "Score: 0.17546757104959645, Percentile: 59.038655480810085\n",
      "Score: -1.0910124363925113, Percentile: 53.434449776613604\n",
      "Score: -0.2095954328193796, Percentile: 56.780435653366055\n",
      "Score: 0.5063080627034549, Percentile: 60.3241962836361\n",
      "Score: 0.16700159794844077, Percentile: 59.0009396531883\n",
      "Score: -1.483695658839777, Percentile: 50.747554284732765\n",
      "Score: -0.028071490096299456, Percentile: 58.16379298009968\n",
      "Score: -0.4631058574377589, Percentile: 55.921318773060506\n",
      "Score: 1.1660796034584882, Percentile: 63.25571799746469\n",
      "Score: -0.8968617957629796, Percentile: 53.86095669882901\n",
      "Score: -1.35004075719381, Percentile: 52.0833996522145\n",
      "Score: -0.5566613483337931, Percentile: 55.817071238243976\n",
      "Score: 0.8094940407127564, Percentile: 62.09387943855896\n",
      "Score: 0.1178926573397135, Percentile: 58.78215980159222\n",
      "Score: -0.7630666882747099, Percentile: 54.93293056931892\n",
      "Score: 0.2898256272226944, Percentile: 59.45834858851133\n",
      "Score: -0.7379591934342283, Percentile: 55.4681164207129\n",
      "Score: -1.585355523653376, Percentile: 50.63705252403856\n",
      "Score: 0.3988326529495701, Percentile: 59.842592771681815\n",
      "Score: 0.4305434699512298, Percentile: 60.0445900119804\n",
      "Score: 0.5769626793517122, Percentile: 60.43875310364622\n",
      "Score: -0.6786372503773516, Percentile: 55.761968047818065\n",
      "Score: 0.2951919088911607, Percentile: 59.469750562865634\n",
      "Score: 0.7186086804858189, Percentile: 61.67498278379903\n",
      "Score: 0.4549436025837737, Percentile: 60.17202723607935\n",
      "Score: 1.4513547676315073, Percentile: 64.42250755199935\n",
      "Score: -0.16152627131938407, Percentile: 56.8030799210731\n",
      "Score: -1.4851574597633148, Percentile: 50.746086448253884\n",
      "Score: 0.42687195261355576, Percentile: 60.021202523418374\n",
      "Score: -0.1817761812081891, Percentile: 56.79354065793106\n",
      "Score: -0.40051534087885576, Percentile: 56.386424611647826\n",
      "Score: -0.7783564720655269, Percentile: 54.60701689263761\n",
      "Score: -1.769238777276643, Percentile: 50.357527010189976\n",
      "Score: -0.3815388469038306, Percentile: 56.48419323019133\n",
      "Score: 1.5199071916282951, Percentile: 64.50358384596986\n",
      "Score: -1.138116852902264, Percentile: 53.25218094306265\n",
      "Score: -0.03713622792639011, Percentile: 58.087509335243254\n",
      "Score: 0.37242834179022516, Percentile: 59.67439786248431\n"
     ]
    }
   ],
   "source": [
    "import numpy as np\n",
    "all_scores=[]\n",
    "\n",
    "scores=data['resilience']\n",
    "max_score = max(scores)\n",
    "min_score = min(scores)\n",
    "scaled_scores = [(score - min_score) / (max_score - min_score) * 100 for score in scores]\n",
    "percentiles = [np.percentile(scaled_scores, (score - min_score) / (max_score - min_score) * 100) for score in scores]\n",
    "all_scores.append(percentiles)\n",
    "\n",
    "for score, percentile in zip(scores, percentiles):\n",
    "    print(f\"Score: {score}, Percentile: {percentile}\")\n"
   ]
  },
  {
   "cell_type": "code",
   "execution_count": null,
   "metadata": {
    "id": "tWAGfUVA5ES0",
    "outputId": "7576cedd-4d27-473e-ac09-4d0b0095fb56"
   },
   "outputs": [
    {
     "name": "stderr",
     "output_type": "stream",
     "text": [
      "C:\\Users\\ohke7\\AppData\\Local\\Temp\\ipykernel_18232\\871335482.py:1: SettingWithCopyWarning: \n",
      "A value is trying to be set on a copy of a slice from a DataFrame.\n",
      "Try using .loc[row_indexer,col_indexer] = value instead\n",
      "\n",
      "See the caveats in the documentation: https://pandas.pydata.org/pandas-docs/stable/user_guide/indexing.html#returning-a-view-versus-a-copy\n",
      "  data['회복점수']=all_scores[0]\n"
     ]
    }
   ],
   "source": [
    "data['회복점수']=all_scores[0]"
   ]
  },
  {
   "cell_type": "code",
   "execution_count": null,
   "metadata": {
    "id": "VU_pIoYA5ES0",
    "outputId": "d5353fc2-1ef8-4d52-e285-1ed6a47a4330"
   },
   "outputs": [
    {
     "data": {
      "text/html": [
       "<div>\n",
       "<style scoped>\n",
       "    .dataframe tbody tr th:only-of-type {\n",
       "        vertical-align: middle;\n",
       "    }\n",
       "\n",
       "    .dataframe tbody tr th {\n",
       "        vertical-align: top;\n",
       "    }\n",
       "\n",
       "    .dataframe thead th {\n",
       "        text-align: right;\n",
       "    }\n",
       "</style>\n",
       "<table border=\"1\" class=\"dataframe\">\n",
       "  <thead>\n",
       "    <tr style=\"text-align: right;\">\n",
       "      <th></th>\n",
       "      <th>공연시설코드</th>\n",
       "      <th>감소폭</th>\n",
       "      <th>감소기간</th>\n",
       "      <th>최저지점이후회복기간</th>\n",
       "      <th>총기간</th>\n",
       "      <th>충격반응력</th>\n",
       "      <th>충격회복력</th>\n",
       "      <th>cluster</th>\n",
       "      <th>ratio</th>\n",
       "      <th>resilience</th>\n",
       "      <th>회복점수</th>\n",
       "    </tr>\n",
       "  </thead>\n",
       "  <tbody>\n",
       "    <tr>\n",
       "      <th>0</th>\n",
       "      <td>FC222007</td>\n",
       "      <td>17867850.0</td>\n",
       "      <td>15</td>\n",
       "      <td>6</td>\n",
       "      <td>21</td>\n",
       "      <td>0.999441</td>\n",
       "      <td>838.051600</td>\n",
       "      <td>1.0</td>\n",
       "      <td>7.018727</td>\n",
       "      <td>1.624241</td>\n",
       "      <td>65.125895</td>\n",
       "    </tr>\n",
       "    <tr>\n",
       "      <th>1</th>\n",
       "      <td>FC222040</td>\n",
       "      <td>3548180.0</td>\n",
       "      <td>12</td>\n",
       "      <td>9</td>\n",
       "      <td>21</td>\n",
       "      <td>0.887045</td>\n",
       "      <td>2.596457</td>\n",
       "      <td>0.0</td>\n",
       "      <td>1.176063</td>\n",
       "      <td>-0.656679</td>\n",
       "      <td>55.790879</td>\n",
       "    </tr>\n",
       "    <tr>\n",
       "      <th>2</th>\n",
       "      <td>FC222048</td>\n",
       "      <td>31731533.0</td>\n",
       "      <td>2</td>\n",
       "      <td>12</td>\n",
       "      <td>14</td>\n",
       "      <td>0.996858</td>\n",
       "      <td>53.153837</td>\n",
       "      <td>1.0</td>\n",
       "      <td>4.254676</td>\n",
       "      <td>0.655500</td>\n",
       "      <td>61.016793</td>\n",
       "    </tr>\n",
       "    <tr>\n",
       "      <th>4</th>\n",
       "      <td>FC222054</td>\n",
       "      <td>10366874.0</td>\n",
       "      <td>4</td>\n",
       "      <td>10</td>\n",
       "      <td>14</td>\n",
       "      <td>0.965359</td>\n",
       "      <td>2.864677</td>\n",
       "      <td>0.0</td>\n",
       "      <td>1.181252</td>\n",
       "      <td>-0.653619</td>\n",
       "      <td>55.794907</td>\n",
       "    </tr>\n",
       "    <tr>\n",
       "      <th>6</th>\n",
       "      <td>FC222061</td>\n",
       "      <td>851200.0</td>\n",
       "      <td>3</td>\n",
       "      <td>14</td>\n",
       "      <td>17</td>\n",
       "      <td>0.928042</td>\n",
       "      <td>1.054113</td>\n",
       "      <td>0.0</td>\n",
       "      <td>0.168433</td>\n",
       "      <td>-1.250739</td>\n",
       "      <td>52.981777</td>\n",
       "    </tr>\n",
       "    <tr>\n",
       "      <th>...</th>\n",
       "      <td>...</td>\n",
       "      <td>...</td>\n",
       "      <td>...</td>\n",
       "      <td>...</td>\n",
       "      <td>...</td>\n",
       "      <td>...</td>\n",
       "      <td>...</td>\n",
       "      <td>...</td>\n",
       "      <td>...</td>\n",
       "      <td>...</td>\n",
       "      <td>...</td>\n",
       "    </tr>\n",
       "    <tr>\n",
       "      <th>129</th>\n",
       "      <td>FC223835</td>\n",
       "      <td>12459193.0</td>\n",
       "      <td>16</td>\n",
       "      <td>1</td>\n",
       "      <td>17</td>\n",
       "      <td>0.771788</td>\n",
       "      <td>3.490741</td>\n",
       "      <td>0.0</td>\n",
       "      <td>1.642747</td>\n",
       "      <td>-0.381539</td>\n",
       "      <td>56.484193</td>\n",
       "    </tr>\n",
       "    <tr>\n",
       "      <th>130</th>\n",
       "      <td>FC223889</td>\n",
       "      <td>43647087.0</td>\n",
       "      <td>21</td>\n",
       "      <td>1</td>\n",
       "      <td>22</td>\n",
       "      <td>0.981118</td>\n",
       "      <td>112.850000</td>\n",
       "      <td>0.0</td>\n",
       "      <td>4.867930</td>\n",
       "      <td>1.519907</td>\n",
       "      <td>64.503584</td>\n",
       "    </tr>\n",
       "    <tr>\n",
       "      <th>131</th>\n",
       "      <td>FC223890</td>\n",
       "      <td>979125.0</td>\n",
       "      <td>3</td>\n",
       "      <td>25</td>\n",
       "      <td>28</td>\n",
       "      <td>0.757177</td>\n",
       "      <td>1.012102</td>\n",
       "      <td>0.0</td>\n",
       "      <td>0.359460</td>\n",
       "      <td>-1.138117</td>\n",
       "      <td>53.252181</td>\n",
       "    </tr>\n",
       "    <tr>\n",
       "      <th>132</th>\n",
       "      <td>FC223897</td>\n",
       "      <td>5539113.0</td>\n",
       "      <td>9</td>\n",
       "      <td>5</td>\n",
       "      <td>14</td>\n",
       "      <td>0.790950</td>\n",
       "      <td>5.823907</td>\n",
       "      <td>1.0</td>\n",
       "      <td>2.278421</td>\n",
       "      <td>-0.037136</td>\n",
       "      <td>58.087509</td>\n",
       "    </tr>\n",
       "    <tr>\n",
       "      <th>133</th>\n",
       "      <td>FC223909</td>\n",
       "      <td>108654235.0</td>\n",
       "      <td>4</td>\n",
       "      <td>22</td>\n",
       "      <td>26</td>\n",
       "      <td>0.991397</td>\n",
       "      <td>16.383527</td>\n",
       "      <td>0.0</td>\n",
       "      <td>2.921606</td>\n",
       "      <td>0.372428</td>\n",
       "      <td>59.674398</td>\n",
       "    </tr>\n",
       "  </tbody>\n",
       "</table>\n",
       "<p>84 rows × 11 columns</p>\n",
       "</div>"
      ],
      "text/plain": [
       "       공연시설코드          감소폭  감소기간  최저지점이후회복기간  총기간     충격반응력       충격회복력   \n",
       "0    FC222007   17867850.0    15           6   21  0.999441  838.051600  \\\n",
       "1    FC222040    3548180.0    12           9   21  0.887045    2.596457   \n",
       "2    FC222048   31731533.0     2          12   14  0.996858   53.153837   \n",
       "4    FC222054   10366874.0     4          10   14  0.965359    2.864677   \n",
       "6    FC222061     851200.0     3          14   17  0.928042    1.054113   \n",
       "..        ...          ...   ...         ...  ...       ...         ...   \n",
       "129  FC223835   12459193.0    16           1   17  0.771788    3.490741   \n",
       "130  FC223889   43647087.0    21           1   22  0.981118  112.850000   \n",
       "131  FC223890     979125.0     3          25   28  0.757177    1.012102   \n",
       "132  FC223897    5539113.0     9           5   14  0.790950    5.823907   \n",
       "133  FC223909  108654235.0     4          22   26  0.991397   16.383527   \n",
       "\n",
       "     cluster     ratio  resilience       회복점수  \n",
       "0        1.0  7.018727    1.624241  65.125895  \n",
       "1        0.0  1.176063   -0.656679  55.790879  \n",
       "2        1.0  4.254676    0.655500  61.016793  \n",
       "4        0.0  1.181252   -0.653619  55.794907  \n",
       "6        0.0  0.168433   -1.250739  52.981777  \n",
       "..       ...       ...         ...        ...  \n",
       "129      0.0  1.642747   -0.381539  56.484193  \n",
       "130      0.0  4.867930    1.519907  64.503584  \n",
       "131      0.0  0.359460   -1.138117  53.252181  \n",
       "132      1.0  2.278421   -0.037136  58.087509  \n",
       "133      0.0  2.921606    0.372428  59.674398  \n",
       "\n",
       "[84 rows x 11 columns]"
      ]
     },
     "execution_count": 129,
     "metadata": {},
     "output_type": "execute_result"
    }
   ],
   "source": [
    "data"
   ]
  },
  {
   "cell_type": "code",
   "execution_count": null,
   "metadata": {
    "id": "5P-1q7ie5ES0",
    "outputId": "6d90b479-a67a-4e9d-b4b2-8beb6d5aee9e"
   },
   "outputs": [
    {
     "data": {
      "text/html": [
       "<div>\n",
       "<style scoped>\n",
       "    .dataframe tbody tr th:only-of-type {\n",
       "        vertical-align: middle;\n",
       "    }\n",
       "\n",
       "    .dataframe tbody tr th {\n",
       "        vertical-align: top;\n",
       "    }\n",
       "\n",
       "    .dataframe thead th {\n",
       "        text-align: right;\n",
       "    }\n",
       "</style>\n",
       "<table border=\"1\" class=\"dataframe\">\n",
       "  <thead>\n",
       "    <tr style=\"text-align: right;\">\n",
       "      <th></th>\n",
       "      <th>sum</th>\n",
       "    </tr>\n",
       "    <tr>\n",
       "      <th>cluster</th>\n",
       "      <th></th>\n",
       "    </tr>\n",
       "  </thead>\n",
       "  <tbody>\n",
       "    <tr>\n",
       "      <th>0.0</th>\n",
       "      <td>2616.841216</td>\n",
       "    </tr>\n",
       "    <tr>\n",
       "      <th>1.0</th>\n",
       "      <td>2258.876440</td>\n",
       "    </tr>\n",
       "  </tbody>\n",
       "</table>\n",
       "</div>"
      ],
      "text/plain": [
       "                 sum\n",
       "cluster             \n",
       "0.0      2616.841216\n",
       "1.0      2258.876440"
      ]
     },
     "execution_count": 130,
     "metadata": {},
     "output_type": "execute_result"
    }
   ],
   "source": [
    "data.groupby('cluster')['회복점수'].agg(['sum'])\n"
   ]
  },
  {
   "cell_type": "markdown",
   "metadata": {
    "id": "BWfbFBrE5ES0"
   },
   "source": [
    "## 회복이 안된 극장들이 2022년 12월에 회복이 모두 됐을때"
   ]
  },
  {
   "cell_type": "code",
   "execution_count": null,
   "metadata": {
    "id": "Xq5Nyykw5ES0"
   },
   "outputs": [],
   "source": [
    "cluster = pd.read_csv('data/중극장_군집분석.csv', encoding='cp949')\n",
    "recover = pd.read_csv(\"data/회복모두완료된극장의분석.csv\")"
   ]
  },
  {
   "cell_type": "code",
   "execution_count": null,
   "metadata": {
    "id": "8VT2BNJs5ES0"
   },
   "outputs": [],
   "source": [
    "cluster= recover.merge(cluster[['공연시설코드', 'cluster']], on='공연시설코드', how='left')"
   ]
  },
  {
   "cell_type": "code",
   "execution_count": null,
   "metadata": {
    "id": "jmv0IE_15ES0",
    "outputId": "cd0b4fc5-32d7-4cb1-fe29-44d598b98ddc"
   },
   "outputs": [
    {
     "data": {
      "text/html": [
       "<div>\n",
       "<style scoped>\n",
       "    .dataframe tbody tr th:only-of-type {\n",
       "        vertical-align: middle;\n",
       "    }\n",
       "\n",
       "    .dataframe tbody tr th {\n",
       "        vertical-align: top;\n",
       "    }\n",
       "\n",
       "    .dataframe thead th {\n",
       "        text-align: right;\n",
       "    }\n",
       "</style>\n",
       "<table border=\"1\" class=\"dataframe\">\n",
       "  <thead>\n",
       "    <tr style=\"text-align: right;\">\n",
       "      <th></th>\n",
       "      <th>공연시설코드</th>\n",
       "      <th>충격반응력</th>\n",
       "      <th>충격회복력</th>\n",
       "      <th>cluster</th>\n",
       "    </tr>\n",
       "  </thead>\n",
       "  <tbody>\n",
       "    <tr>\n",
       "      <th>0</th>\n",
       "      <td>FC222007</td>\n",
       "      <td>0.999441</td>\n",
       "      <td>838.051600</td>\n",
       "      <td>1.0</td>\n",
       "    </tr>\n",
       "    <tr>\n",
       "      <th>1</th>\n",
       "      <td>FC222040</td>\n",
       "      <td>0.887045</td>\n",
       "      <td>2.596457</td>\n",
       "      <td>0.0</td>\n",
       "    </tr>\n",
       "    <tr>\n",
       "      <th>2</th>\n",
       "      <td>FC222048</td>\n",
       "      <td>0.996858</td>\n",
       "      <td>53.153837</td>\n",
       "      <td>1.0</td>\n",
       "    </tr>\n",
       "    <tr>\n",
       "      <th>3</th>\n",
       "      <td>FC222049</td>\n",
       "      <td>0.000000</td>\n",
       "      <td>0.000000</td>\n",
       "      <td>0.0</td>\n",
       "    </tr>\n",
       "    <tr>\n",
       "      <th>4</th>\n",
       "      <td>FC222054</td>\n",
       "      <td>0.965359</td>\n",
       "      <td>2.864677</td>\n",
       "      <td>0.0</td>\n",
       "    </tr>\n",
       "    <tr>\n",
       "      <th>...</th>\n",
       "      <td>...</td>\n",
       "      <td>...</td>\n",
       "      <td>...</td>\n",
       "      <td>...</td>\n",
       "    </tr>\n",
       "    <tr>\n",
       "      <th>133</th>\n",
       "      <td>FC223909</td>\n",
       "      <td>0.991397</td>\n",
       "      <td>16.383527</td>\n",
       "      <td>0.0</td>\n",
       "    </tr>\n",
       "    <tr>\n",
       "      <th>134</th>\n",
       "      <td>FC223941</td>\n",
       "      <td>0.000000</td>\n",
       "      <td>0.000000</td>\n",
       "      <td>1.0</td>\n",
       "    </tr>\n",
       "    <tr>\n",
       "      <th>135</th>\n",
       "      <td>FC224381</td>\n",
       "      <td>0.000000</td>\n",
       "      <td>0.000000</td>\n",
       "      <td>1.0</td>\n",
       "    </tr>\n",
       "    <tr>\n",
       "      <th>136</th>\n",
       "      <td>FC224454</td>\n",
       "      <td>0.000000</td>\n",
       "      <td>0.000000</td>\n",
       "      <td>1.0</td>\n",
       "    </tr>\n",
       "    <tr>\n",
       "      <th>137</th>\n",
       "      <td>FC224496</td>\n",
       "      <td>0.000000</td>\n",
       "      <td>0.000000</td>\n",
       "      <td>0.0</td>\n",
       "    </tr>\n",
       "  </tbody>\n",
       "</table>\n",
       "<p>138 rows × 4 columns</p>\n",
       "</div>"
      ],
      "text/plain": [
       "       공연시설코드     충격반응력       충격회복력  cluster\n",
       "0    FC222007  0.999441  838.051600      1.0\n",
       "1    FC222040  0.887045    2.596457      0.0\n",
       "2    FC222048  0.996858   53.153837      1.0\n",
       "3    FC222049  0.000000    0.000000      0.0\n",
       "4    FC222054  0.965359    2.864677      0.0\n",
       "..        ...       ...         ...      ...\n",
       "133  FC223909  0.991397   16.383527      0.0\n",
       "134  FC223941  0.000000    0.000000      1.0\n",
       "135  FC224381  0.000000    0.000000      1.0\n",
       "136  FC224454  0.000000    0.000000      1.0\n",
       "137  FC224496  0.000000    0.000000      0.0\n",
       "\n",
       "[138 rows x 4 columns]"
      ]
     },
     "execution_count": 79,
     "metadata": {},
     "output_type": "execute_result"
    }
   ],
   "source": [
    "cluster"
   ]
  },
  {
   "cell_type": "code",
   "execution_count": null,
   "metadata": {
    "id": "vX_G2QYV5ES1",
    "outputId": "ca521ac5-0742-4e97-a0d9-b84ba3e8974b"
   },
   "outputs": [
    {
     "data": {
      "text/html": [
       "<div>\n",
       "<style scoped>\n",
       "    .dataframe tbody tr th:only-of-type {\n",
       "        vertical-align: middle;\n",
       "    }\n",
       "\n",
       "    .dataframe tbody tr th {\n",
       "        vertical-align: top;\n",
       "    }\n",
       "\n",
       "    .dataframe thead th {\n",
       "        text-align: right;\n",
       "    }\n",
       "</style>\n",
       "<table border=\"1\" class=\"dataframe\">\n",
       "  <thead>\n",
       "    <tr style=\"text-align: right;\">\n",
       "      <th></th>\n",
       "      <th>충격회복력</th>\n",
       "      <th>충격반응력</th>\n",
       "    </tr>\n",
       "    <tr>\n",
       "      <th>cluster</th>\n",
       "      <th></th>\n",
       "      <th></th>\n",
       "    </tr>\n",
       "  </thead>\n",
       "  <tbody>\n",
       "    <tr>\n",
       "      <th>0.0</th>\n",
       "      <td>0.090933</td>\n",
       "      <td>0.114183</td>\n",
       "    </tr>\n",
       "    <tr>\n",
       "      <th>1.0</th>\n",
       "      <td>0.165179</td>\n",
       "      <td>0.250000</td>\n",
       "    </tr>\n",
       "  </tbody>\n",
       "</table>\n",
       "</div>"
      ],
      "text/plain": [
       "            충격회복력     충격반응력\n",
       "cluster                    \n",
       "0.0      0.090933  0.114183\n",
       "1.0      0.165179  0.250000"
      ]
     },
     "execution_count": 80,
     "metadata": {},
     "output_type": "execute_result"
    }
   ],
   "source": [
    "data = cluster[(cluster['충격회복력']!=0)&(cluster['충격회복력']!=-100)]\n",
    "minvalue = data.groupby('cluster')[['충격회복력', '충격반응력']].min()\n",
    "minvalue"
   ]
  },
  {
   "cell_type": "code",
   "execution_count": null,
   "metadata": {
    "id": "85JBWiuj5ES1"
   },
   "outputs": [],
   "source": [
    "c0_recovery_min=minvalue.iloc[0,0]\n",
    "c0_response_min=minvalue.iloc[0,1]\n",
    "c1_recovery_min=minvalue.iloc[1,0]\n",
    "c1_response_min=minvalue.iloc[1,1]"
   ]
  },
  {
   "cell_type": "code",
   "execution_count": null,
   "metadata": {
    "id": "FgJP-e9G5ES1",
    "outputId": "2b3a8751-b9d7-4771-c15a-847463955007"
   },
   "outputs": [
    {
     "name": "stderr",
     "output_type": "stream",
     "text": [
      "C:\\Users\\ohke7\\AppData\\Local\\Temp\\ipykernel_18232\\3992247558.py:7: FutureWarning: Calling float on a single element Series is deprecated and will raise a TypeError in the future. Use float(ser.iloc[0]) instead\n",
      "  ratio=math.log((cluster[cluster['공연시설코드']==theater]['충격회복력']-c1_recovery_min+0.0001)/(cluster[cluster['공연시설코드']==theater]['충격반응력']-c1_response_min+0.0001))\n",
      "C:\\Users\\ohke7\\AppData\\Local\\Temp\\ipykernel_18232\\3992247558.py:5: FutureWarning: Calling float on a single element Series is deprecated and will raise a TypeError in the future. Use float(ser.iloc[0]) instead\n",
      "  ratio=math.log((cluster[cluster['공연시설코드']==theater]['충격회복력']-c0_recovery_min+0.0001)/(cluster[cluster['공연시설코드']==theater]['충격반응력']-c0_response_min+0.0001))\n"
     ]
    }
   ],
   "source": [
    "final_ratio=[]\n",
    "theaters = cluster['공연시설코드'].unique()\n",
    "for theater in theaters:\n",
    "    if cluster[cluster['공연시설코드']==theater]['cluster'].iloc[0]==0:\n",
    "        ratio=math.log((cluster[cluster['공연시설코드']==theater]['충격회복력']-c0_recovery_min+0.0001)/(cluster[cluster['공연시설코드']==theater]['충격반응력']-c0_response_min+0.0001))\n",
    "    else:\n",
    "        ratio=math.log((cluster[cluster['공연시설코드']==theater]['충격회복력']-c1_recovery_min+0.0001)/(cluster[cluster['공연시설코드']==theater]['충격반응력']-c1_response_min+0.0001))\n",
    "    final_ratio.append(ratio)\n",
    "cluster['ratio']=final_ratio\n"
   ]
  },
  {
   "cell_type": "code",
   "execution_count": null,
   "metadata": {
    "id": "dPc5ZoHA5ES1",
    "outputId": "4a78a75d-3f55-4327-8680-c39b5a4a94d4"
   },
   "outputs": [
    {
     "data": {
      "text/html": [
       "<div>\n",
       "<style scoped>\n",
       "    .dataframe tbody tr th:only-of-type {\n",
       "        vertical-align: middle;\n",
       "    }\n",
       "\n",
       "    .dataframe tbody tr th {\n",
       "        vertical-align: top;\n",
       "    }\n",
       "\n",
       "    .dataframe thead tr th {\n",
       "        text-align: left;\n",
       "    }\n",
       "\n",
       "    .dataframe thead tr:last-of-type th {\n",
       "        text-align: right;\n",
       "    }\n",
       "</style>\n",
       "<table border=\"1\" class=\"dataframe\">\n",
       "  <thead>\n",
       "    <tr>\n",
       "      <th></th>\n",
       "      <th colspan=\"2\" halign=\"left\">ratio</th>\n",
       "    </tr>\n",
       "    <tr>\n",
       "      <th></th>\n",
       "      <th>mean</th>\n",
       "      <th>std</th>\n",
       "    </tr>\n",
       "    <tr>\n",
       "      <th>cluster</th>\n",
       "      <th></th>\n",
       "      <th></th>\n",
       "    </tr>\n",
       "  </thead>\n",
       "  <tbody>\n",
       "    <tr>\n",
       "      <th>0.0</th>\n",
       "      <td>2.017348</td>\n",
       "      <td>1.871015</td>\n",
       "    </tr>\n",
       "    <tr>\n",
       "      <th>1.0</th>\n",
       "      <td>2.254063</td>\n",
       "      <td>2.723920</td>\n",
       "    </tr>\n",
       "  </tbody>\n",
       "</table>\n",
       "</div>"
      ],
      "text/plain": [
       "            ratio          \n",
       "             mean       std\n",
       "cluster                    \n",
       "0.0      2.017348  1.871015\n",
       "1.0      2.254063  2.723920"
      ]
     },
     "execution_count": 83,
     "metadata": {},
     "output_type": "execute_result"
    }
   ],
   "source": [
    "data = cluster[(cluster['충격회복력']!=0)&(cluster['충격회복력']!=-100)]\n",
    "ratiosummary = data.groupby('cluster')[['ratio']].agg(['mean', 'std'])\n",
    "ratiosummary"
   ]
  },
  {
   "cell_type": "code",
   "execution_count": null,
   "metadata": {
    "id": "OI22mnrz5ES1"
   },
   "outputs": [],
   "source": [
    "c0_aver=ratiosummary.iloc[0,0]\n",
    "c0_stdev=ratiosummary.iloc[0,1]\n",
    "c1_aver=ratiosummary.iloc[1,0]\n",
    "c1_stdev=ratiosummary.iloc[1,1]"
   ]
  },
  {
   "cell_type": "code",
   "execution_count": null,
   "metadata": {
    "id": "jn1Ws2w15ES1"
   },
   "outputs": [],
   "source": [
    "final_resilience=[]\n",
    "theaters = cluster['공연시설코드'].unique()\n",
    "for theater in theaters:\n",
    "    if cluster[cluster['공연시설코드']==theater]['cluster'].iloc[0]==0:\n",
    "        resilience=(cluster[cluster['공연시설코드']==theater]['ratio']-c0_aver)/c0_stdev\n",
    "    else:\n",
    "        resilience=(cluster[cluster['공연시설코드']==theater]['ratio']-c1_aver)/c1_stdev\n",
    "    final_resilience.append(resilience.iloc[0])\n",
    "cluster['resilience']=final_resilience\n"
   ]
  },
  {
   "cell_type": "code",
   "execution_count": null,
   "metadata": {
    "id": "encNAck95ES1",
    "outputId": "2ec04d8a-ccbe-473b-9c37-91e029948c00"
   },
   "outputs": [
    {
     "data": {
      "text/html": [
       "<div>\n",
       "<style scoped>\n",
       "    .dataframe tbody tr th:only-of-type {\n",
       "        vertical-align: middle;\n",
       "    }\n",
       "\n",
       "    .dataframe tbody tr th {\n",
       "        vertical-align: top;\n",
       "    }\n",
       "\n",
       "    .dataframe thead th {\n",
       "        text-align: right;\n",
       "    }\n",
       "</style>\n",
       "<table border=\"1\" class=\"dataframe\">\n",
       "  <thead>\n",
       "    <tr style=\"text-align: right;\">\n",
       "      <th></th>\n",
       "      <th>공연시설코드</th>\n",
       "      <th>충격반응력</th>\n",
       "      <th>충격회복력</th>\n",
       "      <th>cluster</th>\n",
       "      <th>ratio</th>\n",
       "      <th>resilience</th>\n",
       "    </tr>\n",
       "  </thead>\n",
       "  <tbody>\n",
       "    <tr>\n",
       "      <th>0</th>\n",
       "      <td>FC222007</td>\n",
       "      <td>0.999441</td>\n",
       "      <td>838.051600</td>\n",
       "      <td>1.0</td>\n",
       "      <td>7.019177</td>\n",
       "      <td>1.749359</td>\n",
       "    </tr>\n",
       "    <tr>\n",
       "      <th>1</th>\n",
       "      <td>FC222040</td>\n",
       "      <td>0.887045</td>\n",
       "      <td>2.596457</td>\n",
       "      <td>0.0</td>\n",
       "      <td>1.176063</td>\n",
       "      <td>-0.449641</td>\n",
       "    </tr>\n",
       "    <tr>\n",
       "      <th>2</th>\n",
       "      <td>FC222048</td>\n",
       "      <td>0.996858</td>\n",
       "      <td>53.153837</td>\n",
       "      <td>1.0</td>\n",
       "      <td>4.261825</td>\n",
       "      <td>0.737085</td>\n",
       "    </tr>\n",
       "    <tr>\n",
       "      <th>3</th>\n",
       "      <td>FC222049</td>\n",
       "      <td>0.000000</td>\n",
       "      <td>0.000000</td>\n",
       "      <td>0.0</td>\n",
       "      <td>-0.227898</td>\n",
       "      <td>-1.200015</td>\n",
       "    </tr>\n",
       "    <tr>\n",
       "      <th>4</th>\n",
       "      <td>FC222054</td>\n",
       "      <td>0.965359</td>\n",
       "      <td>2.864677</td>\n",
       "      <td>0.0</td>\n",
       "      <td>1.181252</td>\n",
       "      <td>-0.446868</td>\n",
       "    </tr>\n",
       "    <tr>\n",
       "      <th>...</th>\n",
       "      <td>...</td>\n",
       "      <td>...</td>\n",
       "      <td>...</td>\n",
       "      <td>...</td>\n",
       "      <td>...</td>\n",
       "      <td>...</td>\n",
       "    </tr>\n",
       "    <tr>\n",
       "      <th>133</th>\n",
       "      <td>FC223909</td>\n",
       "      <td>0.991397</td>\n",
       "      <td>16.383527</td>\n",
       "      <td>0.0</td>\n",
       "      <td>2.921606</td>\n",
       "      <td>0.483298</td>\n",
       "    </tr>\n",
       "    <tr>\n",
       "      <th>134</th>\n",
       "      <td>FC223941</td>\n",
       "      <td>0.000000</td>\n",
       "      <td>0.000000</td>\n",
       "      <td>1.0</td>\n",
       "      <td>-0.414639</td>\n",
       "      <td>-0.979729</td>\n",
       "    </tr>\n",
       "    <tr>\n",
       "      <th>135</th>\n",
       "      <td>FC224381</td>\n",
       "      <td>0.000000</td>\n",
       "      <td>0.000000</td>\n",
       "      <td>1.0</td>\n",
       "      <td>-0.414639</td>\n",
       "      <td>-0.979729</td>\n",
       "    </tr>\n",
       "    <tr>\n",
       "      <th>136</th>\n",
       "      <td>FC224454</td>\n",
       "      <td>0.000000</td>\n",
       "      <td>0.000000</td>\n",
       "      <td>1.0</td>\n",
       "      <td>-0.414639</td>\n",
       "      <td>-0.979729</td>\n",
       "    </tr>\n",
       "    <tr>\n",
       "      <th>137</th>\n",
       "      <td>FC224496</td>\n",
       "      <td>0.000000</td>\n",
       "      <td>0.000000</td>\n",
       "      <td>0.0</td>\n",
       "      <td>-0.227898</td>\n",
       "      <td>-1.200015</td>\n",
       "    </tr>\n",
       "  </tbody>\n",
       "</table>\n",
       "<p>138 rows × 6 columns</p>\n",
       "</div>"
      ],
      "text/plain": [
       "       공연시설코드     충격반응력       충격회복력  cluster     ratio  resilience\n",
       "0    FC222007  0.999441  838.051600      1.0  7.019177    1.749359\n",
       "1    FC222040  0.887045    2.596457      0.0  1.176063   -0.449641\n",
       "2    FC222048  0.996858   53.153837      1.0  4.261825    0.737085\n",
       "3    FC222049  0.000000    0.000000      0.0 -0.227898   -1.200015\n",
       "4    FC222054  0.965359    2.864677      0.0  1.181252   -0.446868\n",
       "..        ...       ...         ...      ...       ...         ...\n",
       "133  FC223909  0.991397   16.383527      0.0  2.921606    0.483298\n",
       "134  FC223941  0.000000    0.000000      1.0 -0.414639   -0.979729\n",
       "135  FC224381  0.000000    0.000000      1.0 -0.414639   -0.979729\n",
       "136  FC224454  0.000000    0.000000      1.0 -0.414639   -0.979729\n",
       "137  FC224496  0.000000    0.000000      0.0 -0.227898   -1.200015\n",
       "\n",
       "[138 rows x 6 columns]"
      ]
     },
     "execution_count": 86,
     "metadata": {},
     "output_type": "execute_result"
    }
   ],
   "source": [
    "cluster"
   ]
  },
  {
   "cell_type": "code",
   "execution_count": null,
   "metadata": {
    "id": "iMnE3zz_5ES1"
   },
   "outputs": [],
   "source": [
    "data = cluster[(cluster['충격회복력']!=0)&(np.isnan(cluster['cluster'])==False)]"
   ]
  },
  {
   "cell_type": "code",
   "execution_count": null,
   "metadata": {
    "id": "Hf9C5sN-5ES1",
    "outputId": "09974f5e-d4db-4079-8a26-52abfdab74d6"
   },
   "outputs": [
    {
     "name": "stdout",
     "output_type": "stream",
     "text": [
      "Score: 1.7493587957440262, Percentile: 64.25630356187325\n",
      "Score: -0.4496413380033226, Percentile: 54.79025876370141\n",
      "Score: 0.7370854618940551, Percentile: 59.6625740627516\n",
      "Score: -0.4468677290898182, Percentile: 54.80056470767592\n",
      "Score: 1.102484780137207, Percentile: 61.71849571811367\n",
      "Score: -0.9881882393323802, Percentile: 52.35846257959355\n",
      "Score: 0.5507246861372386, Percentile: 59.046450539504455\n",
      "Score: -0.7713160548839608, Percentile: 53.95113151148649\n",
      "Score: 0.7738612824022745, Percentile: 59.887069446058206\n",
      "Score: 0.0987083252127934, Percentile: 56.894355076829434\n",
      "Score: 0.17986478444958148, Percentile: 57.40498836174674\n",
      "Score: 0.7053370055656389, Percentile: 59.43895693628988\n",
      "Score: -0.23500340229082456, Percentile: 55.61357212245245\n",
      "Score: 3.259391187651349, Percentile: 100.0\n",
      "Score: 0.8738843066447279, Percentile: 60.4276335355049\n",
      "Score: -0.02386649948368312, Percentile: 56.57423484970907\n",
      "Score: -0.05260445143292152, Percentile: 56.51772227853635\n",
      "Score: 1.6705262646511836, Percentile: 63.8655445751213\n",
      "Score: -0.6239686846494761, Percentile: 54.29329538602513\n",
      "Score: -0.1637277222982038, Percentile: 55.627761005076394\n",
      "Score: 0.15953559803495887, Percentile: 57.32978412664344\n",
      "Score: 2.259447982911705, Percentile: 67.02186214455637\n",
      "Score: 1.410754251780072, Percentile: 62.599647327611805\n",
      "Score: -0.37710608390178973, Percentile: 55.05871943190471\n",
      "Score: 0.11948984183020718, Percentile: 57.045793486342355\n",
      "Score: 0.6629767987881301, Percentile: 59.25031358199527\n",
      "Score: -0.0035307088884397515, Percentile: 56.61422474931629\n",
      "Score: 0.28343129783173643, Percentile: 57.65956998819944\n",
      "Score: 1.0749662794127102, Percentile: 61.67502640576413\n",
      "Score: -0.2055248319847231, Percentile: 55.62010576212236\n",
      "Score: -0.2321453133313775, Percentile: 55.614326229772665\n",
      "Score: -0.3864408667921559, Percentile: 55.02417583282096\n",
      "Score: -0.340996157982619, Percentile: 55.29181462190678\n",
      "Score: -0.5299154895846728, Percentile: 54.50529930936143\n",
      "Score: -0.434591043442166, Percentile: 54.84599489197377\n",
      "Score: 1.0395218799276136, Percentile: 61.65687924613\n",
      "Score: 0.34262735229616725, Percentile: 57.98130412056634\n",
      "Score: 0.03573762424520154, Percentile: 56.68695031521877\n",
      "Score: 0.5740342511189783, Percentile: 59.0757755107594\n",
      "Score: -0.08032075568820558, Percentile: 56.36364983081459\n",
      "Score: 0.2903448480960447, Percentile: 57.66751900820306\n",
      "Score: 0.6348408597808717, Percentile: 59.18080372621532\n",
      "Score: -1.1348831349324953, Percentile: 51.92598073710698\n",
      "Score: -0.8025914658795201, Percentile: 53.848248848222\n",
      "Score: -1.0276838115558595, Percentile: 52.32028419774982\n",
      "Score: 0.10951487231681545, Percentile: 56.97310420452246\n",
      "Score: -0.2606277204150049, Percentile: 55.60681114119997\n",
      "Score: -1.5037137835726135, Percentile: 50.08949614548476\n",
      "Score: 1.9313376467472354, Percentile: 65.03158236462765\n",
      "Score: -1.6154308056060926, Percentile: 49.87791467488509\n",
      "Score: 0.8286054266203362, Percentile: 60.1043535889268\n",
      "Score: 0.30392118703211624, Percentile: 57.683128729063235\n",
      "Score: 0.24537390065841141, Percentile: 57.615812584282395\n",
      "Score: -0.7217598105078687, Percentile: 54.03921774786056\n",
      "Score: -0.044336985128950825, Percentile: 56.53398007515131\n",
      "Score: 0.6046671521079374, Percentile: 59.11431372207568\n",
      "Score: 0.23355663553580117, Percentile: 57.60222540067102\n",
      "Score: -1.1993757900977662, Percentile: 51.89243878755547\n",
      "Score: -0.8071637966471761, Percentile: 53.83320784470747\n",
      "Score: 0.03674411647314971, Percentile: 56.68877725530283\n",
      "Score: -1.4109868862190604, Percentile: 50.525798439072254\n",
      "Score: -0.366942499095505, Percentile: 55.1132558038091\n",
      "Score: 1.2027847227847732, Percentile: 62.00995485491664\n",
      "Score: -1.3757758051300621, Percentile: 50.689460997188554\n",
      "Score: 0.4740142963935936, Percentile: 58.60063337969298\n",
      "Score: -0.6673800568887791, Percentile: 54.10420467099167\n",
      "Score: -1.0782105985982153, Percentile: 52.17445590455345\n",
      "Score: -0.4515780662329135, Percentile: 54.783044381761336\n",
      "Score: 0.8974830117684948, Percentile: 60.616476566287\n",
      "Score: -2.363145326526427, Percentile: 46.97679621200275\n",
      "Score: 0.1861832287782901, Percentile: 57.42836233073359\n",
      "Score: -0.5460877614257915, Percentile: 54.48096910436034\n",
      "Score: 0.4084144488528379, Percentile: 58.392607944606745\n",
      "Score: -0.5789573240208833, Percentile: 54.43151883515318\n",
      "Score: -1.2915357994671632, Percentile: 51.423644105993475\n",
      "Score: -0.42256594991811547, Percentile: 54.890494053284534\n",
      "Score: 0.47461743110294524, Percentile: 58.604810295357744\n",
      "Score: 0.5037962306332299, Percentile: 58.80688353529434\n",
      "Score: 0.6687192747842161, Percentile: 59.26450037271176\n",
      "Score: -0.5545022028820967, Percentile: 54.46831008603485\n",
      "Score: 0.36443897919552376, Percentile: 58.16933318247055\n",
      "Score: 0.8027767511071338, Percentile: 60.00183738924045\n",
      "Score: 0.5295097172758534, Percentile: 58.984958289553795\n",
      "Score: 1.4614016494475046, Percentile: 62.7831973230548\n",
      "Score: -0.07654115756556824, Percentile: 56.40626741569182\n",
      "Score: -1.2007009894481337, Percentile: 51.891749565354246\n",
      "Score: 0.5326541441861105, Percentile: 59.006734529280166\n",
      "Score: -0.09839819326862391, Percentile: 56.159814209817746\n",
      "Score: -0.31545340674601574, Percentile: 55.46759599516197\n",
      "Score: -4.003916892680053, Percentile: 0.0\n",
      "Score: -0.6200442183778592, Percentile: 54.310389527379016\n",
      "Score: -1.458235631380854, Percentile: 50.304220465438036\n",
      "Score: -0.20021272509854954, Percentile: 55.62107868750204\n",
      "Score: 1.5235480240214134, Percentile: 63.05256433234377\n",
      "Score: -0.8860904434030509, Percentile: 53.05877294800358\n",
      "Score: 0.0342876672805647, Percentile: 56.68431841759921\n",
      "Score: 0.4832981501290462, Percentile: 58.664927265446345\n"
     ]
    }
   ],
   "source": [
    "import numpy as np\n",
    "all_scores=[]\n",
    "\n",
    "scores=data['resilience']\n",
    "max_score = max(scores)\n",
    "min_score = min(scores)\n",
    "scaled_scores = [(score - min_score) / (max_score - min_score) * 100 for score in scores]\n",
    "percentiles = [np.percentile(scaled_scores, (score - min_score) / (max_score - min_score) * 100) for score in scores]\n",
    "all_scores.append(percentiles)\n",
    "\n",
    "for score, percentile in zip(scores, percentiles):\n",
    "    print(f\"Score: {score}, Percentile: {percentile}\")\n"
   ]
  },
  {
   "cell_type": "code",
   "execution_count": null,
   "metadata": {
    "id": "iRD2-pvm5ES1",
    "outputId": "c23c7159-627b-48fb-e798-beabe2554a5c"
   },
   "outputs": [
    {
     "name": "stderr",
     "output_type": "stream",
     "text": [
      "C:\\Users\\ohke7\\AppData\\Local\\Temp\\ipykernel_18232\\871335482.py:1: SettingWithCopyWarning: \n",
      "A value is trying to be set on a copy of a slice from a DataFrame.\n",
      "Try using .loc[row_indexer,col_indexer] = value instead\n",
      "\n",
      "See the caveats in the documentation: https://pandas.pydata.org/pandas-docs/stable/user_guide/indexing.html#returning-a-view-versus-a-copy\n",
      "  data['회복점수']=all_scores[0]\n"
     ]
    }
   ],
   "source": [
    "data['회복점수']=all_scores[0]"
   ]
  },
  {
   "cell_type": "code",
   "execution_count": null,
   "metadata": {
    "id": "017KYDTd5ES2",
    "outputId": "94040fe9-d531-4ed5-ab4f-360c3561d64a"
   },
   "outputs": [
    {
     "data": {
      "text/html": [
       "<div>\n",
       "<style scoped>\n",
       "    .dataframe tbody tr th:only-of-type {\n",
       "        vertical-align: middle;\n",
       "    }\n",
       "\n",
       "    .dataframe tbody tr th {\n",
       "        vertical-align: top;\n",
       "    }\n",
       "\n",
       "    .dataframe thead th {\n",
       "        text-align: right;\n",
       "    }\n",
       "</style>\n",
       "<table border=\"1\" class=\"dataframe\">\n",
       "  <thead>\n",
       "    <tr style=\"text-align: right;\">\n",
       "      <th></th>\n",
       "      <th>공연시설코드</th>\n",
       "      <th>충격반응력</th>\n",
       "      <th>충격회복력</th>\n",
       "      <th>cluster</th>\n",
       "      <th>ratio</th>\n",
       "      <th>resilience</th>\n",
       "      <th>회복점수</th>\n",
       "    </tr>\n",
       "  </thead>\n",
       "  <tbody>\n",
       "    <tr>\n",
       "      <th>0</th>\n",
       "      <td>FC222007</td>\n",
       "      <td>0.999441</td>\n",
       "      <td>838.051600</td>\n",
       "      <td>1.0</td>\n",
       "      <td>7.019177</td>\n",
       "      <td>1.749359</td>\n",
       "      <td>64.256304</td>\n",
       "    </tr>\n",
       "    <tr>\n",
       "      <th>1</th>\n",
       "      <td>FC222040</td>\n",
       "      <td>0.887045</td>\n",
       "      <td>2.596457</td>\n",
       "      <td>0.0</td>\n",
       "      <td>1.176063</td>\n",
       "      <td>-0.449641</td>\n",
       "      <td>54.790259</td>\n",
       "    </tr>\n",
       "    <tr>\n",
       "      <th>2</th>\n",
       "      <td>FC222048</td>\n",
       "      <td>0.996858</td>\n",
       "      <td>53.153837</td>\n",
       "      <td>1.0</td>\n",
       "      <td>4.261825</td>\n",
       "      <td>0.737085</td>\n",
       "      <td>59.662574</td>\n",
       "    </tr>\n",
       "    <tr>\n",
       "      <th>4</th>\n",
       "      <td>FC222054</td>\n",
       "      <td>0.965359</td>\n",
       "      <td>2.864677</td>\n",
       "      <td>0.0</td>\n",
       "      <td>1.181252</td>\n",
       "      <td>-0.446868</td>\n",
       "      <td>54.800565</td>\n",
       "    </tr>\n",
       "    <tr>\n",
       "      <th>5</th>\n",
       "      <td>FC222058</td>\n",
       "      <td>0.980903</td>\n",
       "      <td>51.365195</td>\n",
       "      <td>0.0</td>\n",
       "      <td>4.080114</td>\n",
       "      <td>1.102485</td>\n",
       "      <td>61.718496</td>\n",
       "    </tr>\n",
       "    <tr>\n",
       "      <th>...</th>\n",
       "      <td>...</td>\n",
       "      <td>...</td>\n",
       "      <td>...</td>\n",
       "      <td>...</td>\n",
       "      <td>...</td>\n",
       "      <td>...</td>\n",
       "      <td>...</td>\n",
       "    </tr>\n",
       "    <tr>\n",
       "      <th>129</th>\n",
       "      <td>FC223835</td>\n",
       "      <td>0.771788</td>\n",
       "      <td>3.490741</td>\n",
       "      <td>0.0</td>\n",
       "      <td>1.642747</td>\n",
       "      <td>-0.200213</td>\n",
       "      <td>55.621079</td>\n",
       "    </tr>\n",
       "    <tr>\n",
       "      <th>130</th>\n",
       "      <td>FC223889</td>\n",
       "      <td>0.981118</td>\n",
       "      <td>112.850000</td>\n",
       "      <td>0.0</td>\n",
       "      <td>4.867930</td>\n",
       "      <td>1.523548</td>\n",
       "      <td>63.052564</td>\n",
       "    </tr>\n",
       "    <tr>\n",
       "      <th>131</th>\n",
       "      <td>FC223890</td>\n",
       "      <td>0.757177</td>\n",
       "      <td>1.012102</td>\n",
       "      <td>0.0</td>\n",
       "      <td>0.359460</td>\n",
       "      <td>-0.886090</td>\n",
       "      <td>53.058773</td>\n",
       "    </tr>\n",
       "    <tr>\n",
       "      <th>132</th>\n",
       "      <td>FC223897</td>\n",
       "      <td>0.790950</td>\n",
       "      <td>5.823907</td>\n",
       "      <td>1.0</td>\n",
       "      <td>2.347460</td>\n",
       "      <td>0.034288</td>\n",
       "      <td>56.684318</td>\n",
       "    </tr>\n",
       "    <tr>\n",
       "      <th>133</th>\n",
       "      <td>FC223909</td>\n",
       "      <td>0.991397</td>\n",
       "      <td>16.383527</td>\n",
       "      <td>0.0</td>\n",
       "      <td>2.921606</td>\n",
       "      <td>0.483298</td>\n",
       "      <td>58.664927</td>\n",
       "    </tr>\n",
       "  </tbody>\n",
       "</table>\n",
       "<p>97 rows × 7 columns</p>\n",
       "</div>"
      ],
      "text/plain": [
       "       공연시설코드     충격반응력       충격회복력  cluster     ratio  resilience       회복점수\n",
       "0    FC222007  0.999441  838.051600      1.0  7.019177    1.749359  64.256304\n",
       "1    FC222040  0.887045    2.596457      0.0  1.176063   -0.449641  54.790259\n",
       "2    FC222048  0.996858   53.153837      1.0  4.261825    0.737085  59.662574\n",
       "4    FC222054  0.965359    2.864677      0.0  1.181252   -0.446868  54.800565\n",
       "5    FC222058  0.980903   51.365195      0.0  4.080114    1.102485  61.718496\n",
       "..        ...       ...         ...      ...       ...         ...        ...\n",
       "129  FC223835  0.771788    3.490741      0.0  1.642747   -0.200213  55.621079\n",
       "130  FC223889  0.981118  112.850000      0.0  4.867930    1.523548  63.052564\n",
       "131  FC223890  0.757177    1.012102      0.0  0.359460   -0.886090  53.058773\n",
       "132  FC223897  0.790950    5.823907      1.0  2.347460    0.034288  56.684318\n",
       "133  FC223909  0.991397   16.383527      0.0  2.921606    0.483298  58.664927\n",
       "\n",
       "[97 rows x 7 columns]"
      ]
     },
     "execution_count": 107,
     "metadata": {},
     "output_type": "execute_result"
    }
   ],
   "source": [
    "data"
   ]
  },
  {
   "cell_type": "code",
   "execution_count": null,
   "metadata": {
    "id": "63uL5F1S5ES2",
    "outputId": "68c1e23f-d0fd-4b27-be42-72ac14bd7067"
   },
   "outputs": [
    {
     "data": {
      "text/plain": [
       "100.0"
      ]
     },
     "execution_count": 115,
     "metadata": {},
     "output_type": "execute_result"
    }
   ],
   "source": [
    "max(all_scores[0])"
   ]
  },
  {
   "cell_type": "markdown",
   "metadata": {
    "id": "qW1cUQeX5ES2"
   },
   "source": [
    "## 유형별 회복지수 확인"
   ]
  },
  {
   "cell_type": "code",
   "execution_count": null,
   "metadata": {
    "id": "Hfn_LGv15ES2",
    "outputId": "10afb477-50d1-494e-9d53-70a027604b62"
   },
   "outputs": [
    {
     "data": {
      "text/html": [
       "<div>\n",
       "<style scoped>\n",
       "    .dataframe tbody tr th:only-of-type {\n",
       "        vertical-align: middle;\n",
       "    }\n",
       "\n",
       "    .dataframe tbody tr th {\n",
       "        vertical-align: top;\n",
       "    }\n",
       "\n",
       "    .dataframe thead th {\n",
       "        text-align: right;\n",
       "    }\n",
       "</style>\n",
       "<table border=\"1\" class=\"dataframe\">\n",
       "  <thead>\n",
       "    <tr style=\"text-align: right;\">\n",
       "      <th></th>\n",
       "      <th>sum</th>\n",
       "    </tr>\n",
       "    <tr>\n",
       "      <th>cluster</th>\n",
       "      <th></th>\n",
       "    </tr>\n",
       "  </thead>\n",
       "  <tbody>\n",
       "    <tr>\n",
       "      <th>0.0</th>\n",
       "      <td>2949.017065</td>\n",
       "    </tr>\n",
       "    <tr>\n",
       "      <th>1.0</th>\n",
       "      <td>2541.016669</td>\n",
       "    </tr>\n",
       "  </tbody>\n",
       "</table>\n",
       "</div>"
      ],
      "text/plain": [
       "                 sum\n",
       "cluster             \n",
       "0.0      2949.017065\n",
       "1.0      2541.016669"
      ]
     },
     "execution_count": 117,
     "metadata": {},
     "output_type": "execute_result"
    }
   ],
   "source": [
    "data.groupby('cluster')['회복점수'].agg(['sum'])\n"
   ]
  },
  {
   "cell_type": "code",
   "execution_count": 1,
   "metadata": {
    "colab": {
     "base_uri": "https://localhost:8080/"
    },
    "executionInfo": {
     "elapsed": 5,
     "status": "ok",
     "timestamp": 1694027338655,
     "user": {
      "displayName": "오지현",
      "userId": "04470811116945164994"
     },
     "user_tz": -540
    },
    "id": "6ntNNfUt5LjU",
    "outputId": "72a51601-d2eb-4935-c267-8305dd0d4dcd"
   },
   "outputs": [
    {
     "data": {
      "text/plain": [
       "12.693771672847276"
      ]
     },
     "execution_count": 1,
     "metadata": {},
     "output_type": "execute_result"
    }
   ],
   "source": [
    "(2949.017065-2616.841216)/2616.841216*100\n"
   ]
  },
  {
   "cell_type": "code",
   "execution_count": 2,
   "metadata": {
    "colab": {
     "base_uri": "https://localhost:8080/"
    },
    "executionInfo": {
     "elapsed": 9,
     "status": "ok",
     "timestamp": 1694027526810,
     "user": {
      "displayName": "오지현",
      "userId": "04470811116945164994"
     },
     "user_tz": -540
    },
    "id": "ngct-K486AqG",
    "outputId": "0521a70b-1eec-4bdc-b0fa-49d11e10c415"
   },
   "outputs": [
    {
     "data": {
      "text/plain": [
       "12.490290482643667"
      ]
     },
     "execution_count": 2,
     "metadata": {},
     "output_type": "execute_result"
    }
   ],
   "source": [
    "(2541.016669-2258.876440)/2258.876440*100"
   ]
  },
  {
   "cell_type": "code",
   "execution_count": 3,
   "metadata": {
    "colab": {
     "base_uri": "https://localhost:8080/"
    },
    "executionInfo": {
     "elapsed": 6,
     "status": "ok",
     "timestamp": 1694027702442,
     "user": {
      "displayName": "오지현",
      "userId": "04470811116945164994"
     },
     "user_tz": -540
    },
    "id": "w-p12bmf6psL",
    "outputId": "2ba84f04-79c9-4ce3-9926-6885211c5b0e"
   },
   "outputs": [
    {
     "data": {
      "text/plain": [
       "14.378249876147406"
      ]
     },
     "execution_count": 3,
     "metadata": {},
     "output_type": "execute_result"
    }
   ],
   "source": [
    "(2949.017065+2541.016669-2541.016669-2258.876440)/(2541.016669+2258.876440)*100"
   ]
  }
 ],
 "metadata": {
  "colab": {
   "provenance": []
  },
  "kernelspec": {
   "display_name": "Python 3 (ipykernel)",
   "language": "python",
   "name": "python3"
  },
  "language_info": {
   "codemirror_mode": {
    "name": "ipython",
    "version": 3
   },
   "file_extension": ".py",
   "mimetype": "text/x-python",
   "name": "python",
   "nbconvert_exporter": "python",
   "pygments_lexer": "ipython3",
   "version": "3.9.12"
  },
  "toc": {
   "base_numbering": 1,
   "nav_menu": {},
   "number_sections": true,
   "sideBar": true,
   "skip_h1_title": false,
   "title_cell": "Table of Contents",
   "title_sidebar": "Contents",
   "toc_cell": false,
   "toc_position": {},
   "toc_section_display": true,
   "toc_window_display": false
  }
 },
 "nbformat": 4,
 "nbformat_minor": 1
}
