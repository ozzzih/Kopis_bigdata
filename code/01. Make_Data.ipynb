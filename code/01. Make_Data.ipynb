{
 "cells": [
  {
   "cell_type": "code",
   "execution_count": 1,
   "id": "818cab49",
   "metadata": {},
   "outputs": [],
   "source": [
    "# 데이터 불러오기\n",
    "import pandas as pd\n",
    "import numpy as np\n",
    "import os\n",
    "import glob\n",
    "import gc"
   ]
  },
  {
   "cell_type": "code",
   "execution_count": null,
   "id": "e3b63c3a",
   "metadata": {},
   "outputs": [],
   "source": [
    "# Csv 파일 parquet파일로 변환하기"
   ]
  },
  {
   "cell_type": "code",
   "execution_count": 2,
   "id": "fbf3475b",
   "metadata": {},
   "outputs": [],
   "source": [
    "os.chdir('data/원본파일 csv변환/')"
   ]
  },
  {
   "cell_type": "code",
   "execution_count": 3,
   "id": "20dc5ae0",
   "metadata": {},
   "outputs": [],
   "source": [
    "train_file = glob.glob(\"**/*.csv\", recursive=True)"
   ]
  },
  {
   "cell_type": "code",
   "execution_count": 4,
   "id": "e1c56c78",
   "metadata": {},
   "outputs": [
    {
     "data": {
      "text/plain": [
       "34"
      ]
     },
     "execution_count": 4,
     "metadata": {},
     "output_type": "execute_result"
    }
   ],
   "source": [
    "len(train_file)"
   ]
  },
  {
   "cell_type": "code",
   "execution_count": 5,
   "id": "50e571ef",
   "metadata": {},
   "outputs": [],
   "source": [
    "train_csv_path = \"data/원본파일 csv변환/\"\n",
    "# parquet파일이 저장될 공간\n",
    "save_path = \"data/parquet 변환 파일/\""
   ]
  },
  {
   "cell_type": "code",
   "execution_count": 6,
   "id": "a4553091",
   "metadata": {
    "scrolled": true
   },
   "outputs": [],
   "source": [
    "train_csv_path = []\n",
    "for i in train_file:\n",
    "    path = \"data/원본파일 csv변환/\" + str(i)\n",
    "    train_csv_path.append(path)"
   ]
  },
  {
   "cell_type": "code",
   "execution_count": 8,
   "id": "444689ce",
   "metadata": {},
   "outputs": [],
   "source": [
    "# 컬럼선택\n",
    "col = [\"공연시설코드\", \"전송사업자명\", \"공연코드\", \"공연지역명\", \"주소\", \"좌석수\", \"공연일시\", \"예매/취소일시\", \"입장권고유번호\",\n",
    "       \"예매/취소구분\", \"예매/취소금액\", \"예매/취소방식코드\", \"예매/취소방식명(관리시스템)\", \"결제수단코드\",\n",
    "       \"결제수단명(관리시스템)\", \"결제수단명(전송처)\", \"할인금액\", \"할인종류코드\", \"할인종류명(관리시스템)\", \n",
    "       \"할인종류명(전송처)\", \"장당금액\", \"장르명\" ,\"세부장르명\", \"좌석등급\"]"
   ]
  },
  {
   "cell_type": "code",
   "execution_count": 10,
   "id": "72311c2b",
   "metadata": {},
   "outputs": [],
   "source": [
    "# 지역 지우기(서울, 경기, 인천, 제주도 제외)\n",
    "# df[(df[\"공연지역명\"]==\"서울\")|(df[\"공연지역명\"]==\"경기도\")|(df[\"공연지역명\"]==\"제주도\")|(df[\"공연지역명\"]==\"인천\")]\n",
    "\n",
    "def csv_to_parquet(csv_path, save_name):\n",
    "    df = pd.read_csv(csv_path, encoding=\"cp949\", low_memory=False)\n",
    "    df = df[col]\n",
    "    idx = df[(df[\"공연지역명\"]==\"서울\")|(df[\"공연지역명\"]==\"경기도\")|(df[\"공연지역명\"]==\"제주도\")|(df[\"공연지역명\"]==\"인천\")].index\n",
    "    df = df.drop(idx, axis=0)\n",
    "    df = df.reset_index(drop=True)\n",
    "    df.to_parquet(f'{save_path}{save_name}.parquet')\n",
    "    del df\n",
    "    gc.collect()\n",
    "    print(save_name, 'Done.')"
   ]
  },
  {
   "cell_type": "code",
   "execution_count": 11,
   "id": "2bde224d",
   "metadata": {
    "scrolled": true
   },
   "outputs": [
    {
     "name": "stdout",
     "output_type": "stream",
     "text": [
      "(데이터)_19년 하반기~ _22년 하반기 공모전 raw데이터_2022_07_11_15_401,195.csv Done.\n",
      "(데이터)_19년 하반기~ _22년 하반기 공모전 raw데이터_2022_07_16_20_784,119.csv Done.\n",
      "(데이터)_19년 하반기~ _22년 하반기 공모전 raw데이터_2022_07_21_27_864,994.csv Done.\n",
      "(데이터)_19년 하반기~ _22년 하반기 공모전 raw데이터_2022_07_28_31_820,881.csv Done.\n",
      "(데이터)_19년 하반기~ _22년 하반기 공모전 raw데이터_2022_08_01_05_452,291.csv Done.\n",
      "(데이터)_19년 하반기~ _22년 하반기 공모전 raw데이터_2022_08_06_10_745,116.csv Done.\n",
      "(데이터)_19년 하반기~ _22년 하반기 공모전 raw데이터_2022_08_11_14_848,609.csv Done.\n",
      "(데이터)_19년 하반기~ _22년 하반기 공모전 raw데이터_2022_08_15_20_769,557.csv Done.\n",
      "(데이터)_19년 하반기~ _22년 하반기 공모전 raw데이터_2022_08_21_25_343,501.csv Done.\n",
      "(데이터)_19년 하반기~ _22년 하반기 공모전 raw데이터_2022_08_26_31_700,344.csv Done.\n",
      "(데이터)_19년 하반기~ _22년 하반기 공모전 raw데이터_2022_09_01_05_659,383.csv Done.\n",
      "(데이터)_19년 하반기~ _22년 하반기 공모전 raw데이터_2022_09_06_15_627,470.csv Done.\n",
      "(데이터)_19년 하반기~ _22년 하반기 공모전 raw데이터_2022_09_16_22_903,895.csv Done.\n",
      "(데이터)_19년 하반기~ _22년 하반기 공모전 raw데이터_2022_09_23_30_911,463.csv Done.\n",
      "(데이터)_19년 하반기~ _22년 하반기 공모전 raw데이터_2022_10_01_05_720,803.csv Done.\n",
      "(데이터)_19년 하반기~ _22년 하반기 공모전 raw데이터_2022_10_06_10_883,327.csv Done.\n",
      "(데이터)_19년 하반기~ _22년 하반기 공모전 raw데이터_2022_10_11_15_606,033.csv Done.\n",
      "(데이터)_19년 하반기~ _22년 하반기 공모전 raw데이터_2022_10_16_20_389,516.csv Done.\n",
      "(데이터)_19년 하반기~ _22년 하반기 공모전 raw데이터_2022_10_21_25_683,404.csv Done.\n",
      "(데이터)_19년 하반기~ _22년 하반기 공모전 raw데이터_2022_10_26_31_803,651.csv Done.\n",
      "(데이터)_19년 하반기~ _22년 하반기 공모전 raw데이터_2022_11_01_05_445,105.csv Done.\n",
      "(데이터)_19년 하반기~ _22년 하반기 공모전 raw데이터_2022_11_06_10_364,732.csv Done.\n",
      "(데이터)_19년 하반기~ _22년 하반기 공모전 raw데이터_2022_11_11_15_666,241.csv Done.\n",
      "(데이터)_19년 하반기~ _22년 하반기 공모전 raw데이터_2022_11_16_20_815,624.csv Done.\n",
      "(데이터)_19년 하반기~ _22년 하반기 공모전 raw데이터_2022_11_21_25_317,479.csv Done.\n",
      "(데이터)_19년 하반기~ _22년 하반기 공모전 raw데이터_2022_11_26_30_763,086.csv Done.\n",
      "(데이터)_19년 하반기~ _22년 하반기 공모전 raw데이터_2022_12_01_05_887,980.csv Done.\n",
      "(데이터)_19년 하반기~ _22년 하반기 공모전 raw데이터_2022_12_06_10_912,622.csv Done.\n",
      "(데이터)_19년 하반기~ _22년 하반기 공모전 raw데이터_2022_12_11_16_715,942.csv Done.\n",
      "(데이터)_19년 하반기~ _22년 하반기 공모전 raw데이터_2022_12_17_20_847,123.csv Done.\n",
      "(데이터)_19년 하반기~ _22년 하반기 공모전 raw데이터_2022_12_21_23_565,793.csv Done.\n",
      "(데이터)_19년 하반기~ _22년 하반기 공모전 raw데이터_2022_12_24_741,469.csv Done.\n",
      "(데이터)_19년 하반기~ _22년 하반기 공모전 raw데이터_2022_12_25_28_738,967.csv Done.\n",
      "(데이터)_19년 하반기~ _22년 하반기 공모전 raw데이터_2022_12_29_31_897,125.csv Done.\n"
     ]
    }
   ],
   "source": [
    "for i in range(len(train_csv_path)):\n",
    "    csv_to_parquet(train_csv_path[i], train_file[i])"
   ]
  },
  {
   "cell_type": "code",
   "execution_count": null,
   "id": "321cbd91",
   "metadata": {},
   "outputs": [],
   "source": [
    "# Data Join"
   ]
  },
  {
   "cell_type": "code",
   "execution_count": 3,
   "id": "35988902",
   "metadata": {},
   "outputs": [],
   "source": [
    "os.chdir('data/parquet 변환 파일/')"
   ]
  },
  {
   "cell_type": "code",
   "execution_count": 4,
   "id": "88414932",
   "metadata": {},
   "outputs": [],
   "source": [
    "train_file = glob.glob(\"**/*.parquet\", recursive=True)"
   ]
  },
  {
   "cell_type": "code",
   "execution_count": 6,
   "id": "83af306b",
   "metadata": {},
   "outputs": [
    {
     "data": {
      "text/plain": [
       "137"
      ]
     },
     "execution_count": 6,
     "metadata": {},
     "output_type": "execute_result"
    }
   ],
   "source": [
    "len(train_file)"
   ]
  },
  {
   "cell_type": "code",
   "execution_count": 7,
   "id": "700bea58",
   "metadata": {},
   "outputs": [],
   "source": [
    "first = True\n",
    "for i in train_file:\n",
    "    data = pd.read_parquet('data/parquet 변환 파일/'+i)\n",
    "    if first:\n",
    "        df = data\n",
    "        first = False\n",
    "    else:\n",
    "        df = pd.concat([df, data])"
   ]
  },
  {
   "cell_type": "code",
   "execution_count": null,
   "id": "262fa1eb",
   "metadata": {},
   "outputs": [],
   "source": [
    "# 중극장 데이터 저장"
   ]
  },
  {
   "cell_type": "code",
   "execution_count": 15,
   "id": "5f2cff56",
   "metadata": {},
   "outputs": [],
   "source": [
    "medium_df = df[(df[\"좌석수\"]>=300)&(df[\"좌석수\"]<1000)].reset_index(drop=True)"
   ]
  },
  {
   "cell_type": "code",
   "execution_count": 18,
   "id": "fb0cffc7",
   "metadata": {},
   "outputs": [],
   "source": [
    "# medium_df.to_parquet(\"Medium_Theater.parquet\")"
   ]
  }
 ],
 "metadata": {
  "kernelspec": {
   "display_name": "Python 3 (ipykernel)",
   "language": "python",
   "name": "python3"
  },
  "language_info": {
   "codemirror_mode": {
    "name": "ipython",
    "version": 3
   },
   "file_extension": ".py",
   "mimetype": "text/x-python",
   "name": "python",
   "nbconvert_exporter": "python",
   "pygments_lexer": "ipython3",
   "version": "3.9.12"
  },
  "toc": {
   "base_numbering": 1,
   "nav_menu": {},
   "number_sections": true,
   "sideBar": true,
   "skip_h1_title": false,
   "title_cell": "Table of Contents",
   "title_sidebar": "Contents",
   "toc_cell": false,
   "toc_position": {
    "height": "573.802px",
    "left": "35px",
    "top": "110.26px",
    "width": "164.999px"
   },
   "toc_section_display": true,
   "toc_window_display": false
  }
 },
 "nbformat": 4,
 "nbformat_minor": 5
}
