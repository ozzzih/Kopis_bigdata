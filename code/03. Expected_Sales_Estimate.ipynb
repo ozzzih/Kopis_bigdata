{
 "cells": [
  {
   "cell_type": "markdown",
   "id": "153b2759",
   "metadata": {},
   "source": [
    "# 패키지 불러오기"
   ]
  },
  {
   "cell_type": "code",
   "execution_count": 2,
   "id": "c51b0bce",
   "metadata": {},
   "outputs": [],
   "source": [
    "import pandas as pd\n",
    "import numpy as np\n",
    "import warnings\n",
    "warnings.filterwarnings( 'ignore' )"
   ]
  },
  {
   "cell_type": "code",
   "execution_count": 3,
   "id": "2b81c481",
   "metadata": {},
   "outputs": [],
   "source": [
    "pd.options.display.float_format = '{:.5f}'.format"
   ]
  },
  {
   "cell_type": "code",
   "execution_count": 1,
   "id": "bb99ce69",
   "metadata": {
    "scrolled": false
   },
   "outputs": [],
   "source": [
    "medium = pd.read_csv(\"data/Medium_Theater_estimate.csv\")"
   ]
  },
  {
   "cell_type": "markdown",
   "id": "93a6e656",
   "metadata": {},
   "source": [
    "## 월별합이 0인애들 제거"
   ]
  },
  {
   "cell_type": "code",
   "execution_count": 30,
   "id": "4a5c0d19",
   "metadata": {},
   "outputs": [],
   "source": [
    "temp = medium.groupby([\"공연시설코드\", \"년도_월\"]).sum().reset_index()"
   ]
  },
  {
   "cell_type": "code",
   "execution_count": 31,
   "id": "7a08eddc",
   "metadata": {},
   "outputs": [],
   "source": [
    "temp = temp[temp[\"예매/취소금액\"]==0][[\"공연시설코드\", \"년도_월\"]]"
   ]
  },
  {
   "cell_type": "code",
   "execution_count": 33,
   "id": "4b06d5c3",
   "metadata": {},
   "outputs": [],
   "source": [
    "code = temp[\"공연시설코드\"].tolist()\n",
    "month = temp[\"년도_월\"].tolist()"
   ]
  },
  {
   "cell_type": "code",
   "execution_count": 34,
   "id": "9fb3c8b5",
   "metadata": {},
   "outputs": [],
   "source": [
    "idx = []\n",
    "for i,j in zip(code, month):\n",
    "    num = medium[(medium[\"공연시설코드\"]==i)&(medium[\"년도_월\"]==j)].index\n",
    "    idx.append(num)"
   ]
  },
  {
   "cell_type": "code",
   "execution_count": 36,
   "id": "fd7ed6ca",
   "metadata": {},
   "outputs": [],
   "source": [
    "idx = [x for idx in idx for x in idx.tolist()]"
   ]
  },
  {
   "cell_type": "code",
   "execution_count": 38,
   "id": "be08d1fc",
   "metadata": {},
   "outputs": [],
   "source": [
    "medium = medium.drop(idx, axis=0)"
   ]
  },
  {
   "cell_type": "markdown",
   "id": "07d6257b",
   "metadata": {},
   "source": [
    "## 좌석수평균 X 평균좌석당금액"
   ]
  },
  {
   "cell_type": "code",
   "execution_count": 49,
   "id": "18b2731d",
   "metadata": {
    "scrolled": true
   },
   "outputs": [
    {
     "data": {
      "text/plain": [
       "['FC222040',\n",
       " 'FC222089',\n",
       " 'FC222272',\n",
       " 'FC222466',\n",
       " 'FC222564',\n",
       " 'FC222622',\n",
       " 'FC222628',\n",
       " 'FC222741',\n",
       " 'FC222964',\n",
       " 'FC222982',\n",
       " 'FC223493',\n",
       " 'FC224381',\n",
       " 'FC224496']"
      ]
     },
     "execution_count": 49,
     "metadata": {},
     "output_type": "execute_result"
    }
   ],
   "source": [
    "# 19년도 데이터가 1개인 데이터는 그 가격 그대로 예상매출액으로 사용.\n",
    "code = medium[\"공연시설코드\"].unique()\n",
    "except_lst = []\n",
    "\n",
    "for i in code:\n",
    "    temp = medium[medium[\"공연시설코드\"]==i]\n",
    "    num = len(temp)\n",
    "    if num == 1:\n",
    "        except_lst.append(i)\n",
    "except_lst"
   ]
  },
  {
   "cell_type": "code",
   "execution_count": 50,
   "id": "0fc0b6ca",
   "metadata": {},
   "outputs": [],
   "source": [
    "def MakeExpectedSales(code):\n",
    "    if code in except_lst:\n",
    "        temp = medium[medium[\"공연시설코드\"]==code]\n",
    "        res = temp[\"예매/취소금액\"].values[0]\n",
    "    else:\n",
    "        temp = medium[medium[\"공연시설코드\"]==code]\n",
    "        temp[\"좌석당가격\"] = temp[\"예매/취소금액\"] / temp[\"좌석수\"]\n",
    "        gb = temp.groupby(\"년도_월\").sum()\n",
    "        seat_mean = temp[\"좌석수\"].mean()\n",
    "        seat_price = gb[\"좌석당가격\"].mean()\n",
    "        res = seat_mean * seat_price\n",
    "    return res"
   ]
  },
  {
   "cell_type": "code",
   "execution_count": 51,
   "id": "3fbc3ded",
   "metadata": {},
   "outputs": [],
   "source": [
    "code = medium[\"공연시설코드\"].unique()\n",
    "expected = []\n",
    "\n",
    "for i in code:\n",
    "    res = MakeExpectedSales(i)\n",
    "    expected.append(res)"
   ]
  },
  {
   "cell_type": "code",
   "execution_count": 52,
   "id": "d96910d3",
   "metadata": {},
   "outputs": [
    {
     "data": {
      "text/html": [
       "<div>\n",
       "<style scoped>\n",
       "    .dataframe tbody tr th:only-of-type {\n",
       "        vertical-align: middle;\n",
       "    }\n",
       "\n",
       "    .dataframe tbody tr th {\n",
       "        vertical-align: top;\n",
       "    }\n",
       "\n",
       "    .dataframe thead th {\n",
       "        text-align: right;\n",
       "    }\n",
       "</style>\n",
       "<table border=\"1\" class=\"dataframe\">\n",
       "  <thead>\n",
       "    <tr style=\"text-align: right;\">\n",
       "      <th></th>\n",
       "      <th>공연시설코드</th>\n",
       "      <th>좌석당금액</th>\n",
       "    </tr>\n",
       "  </thead>\n",
       "  <tbody>\n",
       "    <tr>\n",
       "      <th>0</th>\n",
       "      <td>FC222007</td>\n",
       "      <td>17877850.50000</td>\n",
       "    </tr>\n",
       "    <tr>\n",
       "      <th>1</th>\n",
       "      <td>FC222040</td>\n",
       "      <td>4000000.00000</td>\n",
       "    </tr>\n",
       "    <tr>\n",
       "      <th>2</th>\n",
       "      <td>FC222048</td>\n",
       "      <td>31831533.00000</td>\n",
       "    </tr>\n",
       "    <tr>\n",
       "      <th>3</th>\n",
       "      <td>FC222049</td>\n",
       "      <td>2469018.28571</td>\n",
       "    </tr>\n",
       "    <tr>\n",
       "      <th>4</th>\n",
       "      <td>FC222054</td>\n",
       "      <td>10738874.42857</td>\n",
       "    </tr>\n",
       "    <tr>\n",
       "      <th>...</th>\n",
       "      <td>...</td>\n",
       "      <td>...</td>\n",
       "    </tr>\n",
       "    <tr>\n",
       "      <th>133</th>\n",
       "      <td>FC223909</td>\n",
       "      <td>109597074.27051</td>\n",
       "    </tr>\n",
       "    <tr>\n",
       "      <th>134</th>\n",
       "      <td>FC223941</td>\n",
       "      <td>16358687.50000</td>\n",
       "    </tr>\n",
       "    <tr>\n",
       "      <th>135</th>\n",
       "      <td>FC224381</td>\n",
       "      <td>1404000.00000</td>\n",
       "    </tr>\n",
       "    <tr>\n",
       "      <th>136</th>\n",
       "      <td>FC224454</td>\n",
       "      <td>1794000.00000</td>\n",
       "    </tr>\n",
       "    <tr>\n",
       "      <th>137</th>\n",
       "      <td>FC224496</td>\n",
       "      <td>5170000.00000</td>\n",
       "    </tr>\n",
       "  </tbody>\n",
       "</table>\n",
       "<p>138 rows × 2 columns</p>\n",
       "</div>"
      ],
      "text/plain": [
       "       공연시설코드           좌석당금액\n",
       "0    FC222007  17877850.50000\n",
       "1    FC222040   4000000.00000\n",
       "2    FC222048  31831533.00000\n",
       "3    FC222049   2469018.28571\n",
       "4    FC222054  10738874.42857\n",
       "..        ...             ...\n",
       "133  FC223909 109597074.27051\n",
       "134  FC223941  16358687.50000\n",
       "135  FC224381   1404000.00000\n",
       "136  FC224454   1794000.00000\n",
       "137  FC224496   5170000.00000\n",
       "\n",
       "[138 rows x 2 columns]"
      ]
     },
     "execution_count": 52,
     "metadata": {},
     "output_type": "execute_result"
    }
   ],
   "source": [
    "res_df = pd.DataFrame({\"공연시설코드\":code, \"좌석당금액\":expected})\n",
    "res_df"
   ]
  },
  {
   "cell_type": "code",
   "execution_count": 53,
   "id": "dde84f19",
   "metadata": {},
   "outputs": [],
   "source": [
    "# res_df.to_csv(\"중극장_예상매출액_평균좌석당금액이용.csv\", index=False)"
   ]
  }
 ],
 "metadata": {
  "kernelspec": {
   "display_name": "Python 3 (ipykernel)",
   "language": "python",
   "name": "python3"
  },
  "language_info": {
   "codemirror_mode": {
    "name": "ipython",
    "version": 3
   },
   "file_extension": ".py",
   "mimetype": "text/x-python",
   "name": "python",
   "nbconvert_exporter": "python",
   "pygments_lexer": "ipython3",
   "version": "3.9.12"
  },
  "toc": {
   "base_numbering": 1,
   "nav_menu": {},
   "number_sections": true,
   "sideBar": true,
   "skip_h1_title": false,
   "title_cell": "Table of Contents",
   "title_sidebar": "Contents",
   "toc_cell": false,
   "toc_position": {
    "height": "calc(100% - 180px)",
    "left": "10px",
    "top": "150px",
    "width": "164.999px"
   },
   "toc_section_display": true,
   "toc_window_display": true
  }
 },
 "nbformat": 4,
 "nbformat_minor": 5
}
