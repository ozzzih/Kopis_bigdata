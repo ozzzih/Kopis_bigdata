{
 "cells": [
  {
   "cell_type": "code",
   "execution_count": 1,
   "metadata": {
    "id": "2fQWOLWtBjdS"
   },
   "outputs": [],
   "source": [
    "import pandas as pd\n",
    "import scipy.stats as stats\n",
    "import pandas as pd\n",
    "import matplotlib.pyplot as plt\n",
    "import seaborn as sns"
   ]
  },
  {
   "cell_type": "code",
   "execution_count": 15,
   "metadata": {},
   "outputs": [],
   "source": [
    "from matplotlib import font_manager, rc\n",
    "font_path = \"C:/Windows/Fonts/malgunsl.TTF\"\n",
    "font = font_manager.FontProperties(fname=font_path).get_name()\n",
    "rc('font', family=font)"
   ]
  },
  {
   "cell_type": "code",
   "execution_count": 2,
   "metadata": {
    "id": "bujOqArsBus7"
   },
   "outputs": [],
   "source": [
    "df = pd.read_csv(\"data/중극장_요인분석_유형분류_회복력조인.csv\").drop(['F0','F1','F2'], axis=1)"
   ]
  },
  {
   "cell_type": "code",
   "execution_count": 3,
   "metadata": {
    "colab": {
     "base_uri": "https://localhost:8080/"
    },
    "id": "FZYa1_1SBxt-",
    "outputId": "176c24cd-c7cf-4afd-948e-d21f6769b225"
   },
   "outputs": [
    {
     "data": {
      "text/plain": [
       "Index(['공연시설코드', 'GRDP', '지방세징수액', '총인구수', '주차장', '문화시설', '평균연령', '직장인구수',\n",
       "       '정류장', '검색량합계', '전체면적대비도로면적', '대중교통이용량', '좌석수', '예매/취소금액', '할인금액',\n",
       "       '장당금액', '평균좌석점유율', '좌석수_합계', '예매/취소금액_합계', '할인금액_합계', '장당금액_합계',\n",
       "       '예매건수_합계', '평균좌석점유율_합계', '충격반응력', '충격회복력', 'cluster', '감소폭', '감소기간',\n",
       "       '최저지점이후회복기간', '총기간', 'ratio', 'resilience'],\n",
       "      dtype='object')"
      ]
     },
     "execution_count": 3,
     "metadata": {},
     "output_type": "execute_result"
    }
   ],
   "source": [
    "df.columns"
   ]
  },
  {
   "cell_type": "code",
   "execution_count": 4,
   "metadata": {
    "id": "0U8BvyqbCIoF"
   },
   "outputs": [],
   "source": [
    "df = df[(df.충격회복력 !=0) & (df.충격회복력 != -100)].reset_index().drop([\"index\"],axis=1)"
   ]
  },
  {
   "cell_type": "code",
   "execution_count": 5,
   "metadata": {
    "colab": {
     "base_uri": "https://localhost:8080/",
     "height": 496
    },
    "id": "hDFb6JzkCmL2",
    "outputId": "70de56d1-6abb-48f0-b93b-18c960f2e317"
   },
   "outputs": [
    {
     "data": {
      "text/html": [
       "<div>\n",
       "<style scoped>\n",
       "    .dataframe tbody tr th:only-of-type {\n",
       "        vertical-align: middle;\n",
       "    }\n",
       "\n",
       "    .dataframe tbody tr th {\n",
       "        vertical-align: top;\n",
       "    }\n",
       "\n",
       "    .dataframe thead th {\n",
       "        text-align: right;\n",
       "    }\n",
       "</style>\n",
       "<table border=\"1\" class=\"dataframe\">\n",
       "  <thead>\n",
       "    <tr style=\"text-align: right;\">\n",
       "      <th></th>\n",
       "      <th>공연시설코드</th>\n",
       "      <th>GRDP</th>\n",
       "      <th>지방세징수액</th>\n",
       "      <th>총인구수</th>\n",
       "      <th>주차장</th>\n",
       "      <th>문화시설</th>\n",
       "      <th>평균연령</th>\n",
       "      <th>직장인구수</th>\n",
       "      <th>정류장</th>\n",
       "      <th>검색량합계</th>\n",
       "      <th>...</th>\n",
       "      <th>평균좌석점유율_합계</th>\n",
       "      <th>충격반응력</th>\n",
       "      <th>충격회복력</th>\n",
       "      <th>cluster</th>\n",
       "      <th>감소폭</th>\n",
       "      <th>감소기간</th>\n",
       "      <th>최저지점이후회복기간</th>\n",
       "      <th>총기간</th>\n",
       "      <th>ratio</th>\n",
       "      <th>resilience</th>\n",
       "    </tr>\n",
       "  </thead>\n",
       "  <tbody>\n",
       "    <tr>\n",
       "      <th>0</th>\n",
       "      <td>FC222007</td>\n",
       "      <td>39860038.0</td>\n",
       "      <td>1.399323e+09</td>\n",
       "      <td>3143568.0</td>\n",
       "      <td>0.0</td>\n",
       "      <td>15.0</td>\n",
       "      <td>43.892187</td>\n",
       "      <td>92508.0</td>\n",
       "      <td>10.0</td>\n",
       "      <td>33170.0</td>\n",
       "      <td>...</td>\n",
       "      <td>1127.619400</td>\n",
       "      <td>0.999441</td>\n",
       "      <td>838.051600</td>\n",
       "      <td>1</td>\n",
       "      <td>17867850.0</td>\n",
       "      <td>15</td>\n",
       "      <td>6</td>\n",
       "      <td>21</td>\n",
       "      <td>7.018727</td>\n",
       "      <td>1.624241</td>\n",
       "    </tr>\n",
       "    <tr>\n",
       "      <th>1</th>\n",
       "      <td>FC222040</td>\n",
       "      <td>2731839.0</td>\n",
       "      <td>6.324200e+04</td>\n",
       "      <td>236606.0</td>\n",
       "      <td>1.0</td>\n",
       "      <td>2.0</td>\n",
       "      <td>49.491667</td>\n",
       "      <td>33172.0</td>\n",
       "      <td>27.0</td>\n",
       "      <td>52470.0</td>\n",
       "      <td>...</td>\n",
       "      <td>27.216000</td>\n",
       "      <td>0.887045</td>\n",
       "      <td>2.596457</td>\n",
       "      <td>0</td>\n",
       "      <td>3548180.0</td>\n",
       "      <td>12</td>\n",
       "      <td>9</td>\n",
       "      <td>21</td>\n",
       "      <td>1.176063</td>\n",
       "      <td>-0.656679</td>\n",
       "    </tr>\n",
       "    <tr>\n",
       "      <th>2</th>\n",
       "      <td>FC222048</td>\n",
       "      <td>25870664.0</td>\n",
       "      <td>4.881770e+05</td>\n",
       "      <td>565264.0</td>\n",
       "      <td>1.0</td>\n",
       "      <td>19.0</td>\n",
       "      <td>48.935484</td>\n",
       "      <td>90358.0</td>\n",
       "      <td>1.0</td>\n",
       "      <td>10943.0</td>\n",
       "      <td>...</td>\n",
       "      <td>5129.018545</td>\n",
       "      <td>0.996858</td>\n",
       "      <td>53.153837</td>\n",
       "      <td>1</td>\n",
       "      <td>31731533.0</td>\n",
       "      <td>2</td>\n",
       "      <td>12</td>\n",
       "      <td>14</td>\n",
       "      <td>4.254676</td>\n",
       "      <td>0.655500</td>\n",
       "    </tr>\n",
       "    <tr>\n",
       "      <th>3</th>\n",
       "      <td>FC222054</td>\n",
       "      <td>9503602.0</td>\n",
       "      <td>4.499700e+05</td>\n",
       "      <td>814208.0</td>\n",
       "      <td>0.0</td>\n",
       "      <td>23.0</td>\n",
       "      <td>44.000000</td>\n",
       "      <td>134401.0</td>\n",
       "      <td>30.0</td>\n",
       "      <td>190690.0</td>\n",
       "      <td>...</td>\n",
       "      <td>1137.269000</td>\n",
       "      <td>0.965359</td>\n",
       "      <td>2.864677</td>\n",
       "      <td>0</td>\n",
       "      <td>10366874.0</td>\n",
       "      <td>4</td>\n",
       "      <td>10</td>\n",
       "      <td>14</td>\n",
       "      <td>1.181252</td>\n",
       "      <td>-0.653619</td>\n",
       "    </tr>\n",
       "    <tr>\n",
       "      <th>4</th>\n",
       "      <td>FC222061</td>\n",
       "      <td>13519198.0</td>\n",
       "      <td>4.387225e+08</td>\n",
       "      <td>814252.0</td>\n",
       "      <td>6.0</td>\n",
       "      <td>5.0</td>\n",
       "      <td>42.413636</td>\n",
       "      <td>143581.0</td>\n",
       "      <td>20.0</td>\n",
       "      <td>43280.0</td>\n",
       "      <td>...</td>\n",
       "      <td>713.865400</td>\n",
       "      <td>0.928042</td>\n",
       "      <td>1.054113</td>\n",
       "      <td>0</td>\n",
       "      <td>851200.0</td>\n",
       "      <td>3</td>\n",
       "      <td>14</td>\n",
       "      <td>17</td>\n",
       "      <td>0.168433</td>\n",
       "      <td>-1.250739</td>\n",
       "    </tr>\n",
       "    <tr>\n",
       "      <th>...</th>\n",
       "      <td>...</td>\n",
       "      <td>...</td>\n",
       "      <td>...</td>\n",
       "      <td>...</td>\n",
       "      <td>...</td>\n",
       "      <td>...</td>\n",
       "      <td>...</td>\n",
       "      <td>...</td>\n",
       "      <td>...</td>\n",
       "      <td>...</td>\n",
       "      <td>...</td>\n",
       "      <td>...</td>\n",
       "      <td>...</td>\n",
       "      <td>...</td>\n",
       "      <td>...</td>\n",
       "      <td>...</td>\n",
       "      <td>...</td>\n",
       "      <td>...</td>\n",
       "      <td>...</td>\n",
       "      <td>...</td>\n",
       "      <td>...</td>\n",
       "    </tr>\n",
       "    <tr>\n",
       "      <th>79</th>\n",
       "      <td>FC223835</td>\n",
       "      <td>7671520.0</td>\n",
       "      <td>2.968996e+08</td>\n",
       "      <td>696472.0</td>\n",
       "      <td>8.0</td>\n",
       "      <td>7.0</td>\n",
       "      <td>45.876190</td>\n",
       "      <td>107350.0</td>\n",
       "      <td>20.0</td>\n",
       "      <td>21077.0</td>\n",
       "      <td>...</td>\n",
       "      <td>5230.806792</td>\n",
       "      <td>0.771788</td>\n",
       "      <td>3.490741</td>\n",
       "      <td>0</td>\n",
       "      <td>12459193.0</td>\n",
       "      <td>16</td>\n",
       "      <td>1</td>\n",
       "      <td>17</td>\n",
       "      <td>1.642747</td>\n",
       "      <td>-0.381539</td>\n",
       "    </tr>\n",
       "    <tr>\n",
       "      <th>80</th>\n",
       "      <td>FC223889</td>\n",
       "      <td>14019944.0</td>\n",
       "      <td>4.486488e+08</td>\n",
       "      <td>698400.0</td>\n",
       "      <td>6.0</td>\n",
       "      <td>1.0</td>\n",
       "      <td>37.725000</td>\n",
       "      <td>137435.0</td>\n",
       "      <td>8.0</td>\n",
       "      <td>165366.0</td>\n",
       "      <td>...</td>\n",
       "      <td>2544.107467</td>\n",
       "      <td>0.981118</td>\n",
       "      <td>112.850000</td>\n",
       "      <td>0</td>\n",
       "      <td>43647087.0</td>\n",
       "      <td>21</td>\n",
       "      <td>1</td>\n",
       "      <td>22</td>\n",
       "      <td>4.867930</td>\n",
       "      <td>1.519907</td>\n",
       "    </tr>\n",
       "    <tr>\n",
       "      <th>81</th>\n",
       "      <td>FC223890</td>\n",
       "      <td>13519198.0</td>\n",
       "      <td>4.387225e+08</td>\n",
       "      <td>814252.0</td>\n",
       "      <td>0.0</td>\n",
       "      <td>26.0</td>\n",
       "      <td>42.413636</td>\n",
       "      <td>143581.0</td>\n",
       "      <td>5.0</td>\n",
       "      <td>43280.0</td>\n",
       "      <td>...</td>\n",
       "      <td>10.731972</td>\n",
       "      <td>0.757177</td>\n",
       "      <td>1.012102</td>\n",
       "      <td>0</td>\n",
       "      <td>979125.0</td>\n",
       "      <td>3</td>\n",
       "      <td>25</td>\n",
       "      <td>28</td>\n",
       "      <td>0.359460</td>\n",
       "      <td>-1.138117</td>\n",
       "    </tr>\n",
       "    <tr>\n",
       "      <th>82</th>\n",
       "      <td>FC223897</td>\n",
       "      <td>3160717.0</td>\n",
       "      <td>1.315655e+08</td>\n",
       "      <td>212014.0</td>\n",
       "      <td>0.0</td>\n",
       "      <td>3.0</td>\n",
       "      <td>52.983333</td>\n",
       "      <td>27271.0</td>\n",
       "      <td>9.0</td>\n",
       "      <td>8277.0</td>\n",
       "      <td>...</td>\n",
       "      <td>339.053000</td>\n",
       "      <td>0.790950</td>\n",
       "      <td>5.823907</td>\n",
       "      <td>1</td>\n",
       "      <td>5539113.0</td>\n",
       "      <td>9</td>\n",
       "      <td>5</td>\n",
       "      <td>14</td>\n",
       "      <td>2.278421</td>\n",
       "      <td>-0.037136</td>\n",
       "    </tr>\n",
       "    <tr>\n",
       "      <th>83</th>\n",
       "      <td>FC223909</td>\n",
       "      <td>5651552.0</td>\n",
       "      <td>2.198940e+05</td>\n",
       "      <td>426696.0</td>\n",
       "      <td>6.0</td>\n",
       "      <td>5.0</td>\n",
       "      <td>47.886364</td>\n",
       "      <td>66567.0</td>\n",
       "      <td>9.0</td>\n",
       "      <td>201796.0</td>\n",
       "      <td>...</td>\n",
       "      <td>17177.071167</td>\n",
       "      <td>0.991397</td>\n",
       "      <td>16.383527</td>\n",
       "      <td>0</td>\n",
       "      <td>108654235.0</td>\n",
       "      <td>4</td>\n",
       "      <td>22</td>\n",
       "      <td>26</td>\n",
       "      <td>2.921606</td>\n",
       "      <td>0.372428</td>\n",
       "    </tr>\n",
       "  </tbody>\n",
       "</table>\n",
       "<p>84 rows × 32 columns</p>\n",
       "</div>"
      ],
      "text/plain": [
       "      공연시설코드        GRDP        지방세징수액       총인구수  주차장  문화시설       평균연령   \n",
       "0   FC222007  39860038.0  1.399323e+09  3143568.0  0.0  15.0  43.892187  \\\n",
       "1   FC222040   2731839.0  6.324200e+04   236606.0  1.0   2.0  49.491667   \n",
       "2   FC222048  25870664.0  4.881770e+05   565264.0  1.0  19.0  48.935484   \n",
       "3   FC222054   9503602.0  4.499700e+05   814208.0  0.0  23.0  44.000000   \n",
       "4   FC222061  13519198.0  4.387225e+08   814252.0  6.0   5.0  42.413636   \n",
       "..       ...         ...           ...        ...  ...   ...        ...   \n",
       "79  FC223835   7671520.0  2.968996e+08   696472.0  8.0   7.0  45.876190   \n",
       "80  FC223889  14019944.0  4.486488e+08   698400.0  6.0   1.0  37.725000   \n",
       "81  FC223890  13519198.0  4.387225e+08   814252.0  0.0  26.0  42.413636   \n",
       "82  FC223897   3160717.0  1.315655e+08   212014.0  0.0   3.0  52.983333   \n",
       "83  FC223909   5651552.0  2.198940e+05   426696.0  6.0   5.0  47.886364   \n",
       "\n",
       "       직장인구수   정류장     검색량합계  ...    평균좌석점유율_합계     충격반응력       충격회복력   \n",
       "0    92508.0  10.0   33170.0  ...   1127.619400  0.999441  838.051600  \\\n",
       "1    33172.0  27.0   52470.0  ...     27.216000  0.887045    2.596457   \n",
       "2    90358.0   1.0   10943.0  ...   5129.018545  0.996858   53.153837   \n",
       "3   134401.0  30.0  190690.0  ...   1137.269000  0.965359    2.864677   \n",
       "4   143581.0  20.0   43280.0  ...    713.865400  0.928042    1.054113   \n",
       "..       ...   ...       ...  ...           ...       ...         ...   \n",
       "79  107350.0  20.0   21077.0  ...   5230.806792  0.771788    3.490741   \n",
       "80  137435.0   8.0  165366.0  ...   2544.107467  0.981118  112.850000   \n",
       "81  143581.0   5.0   43280.0  ...     10.731972  0.757177    1.012102   \n",
       "82   27271.0   9.0    8277.0  ...    339.053000  0.790950    5.823907   \n",
       "83   66567.0   9.0  201796.0  ...  17177.071167  0.991397   16.383527   \n",
       "\n",
       "    cluster          감소폭  감소기간  최저지점이후회복기간  총기간     ratio  resilience  \n",
       "0         1   17867850.0    15           6   21  7.018727    1.624241  \n",
       "1         0    3548180.0    12           9   21  1.176063   -0.656679  \n",
       "2         1   31731533.0     2          12   14  4.254676    0.655500  \n",
       "3         0   10366874.0     4          10   14  1.181252   -0.653619  \n",
       "4         0     851200.0     3          14   17  0.168433   -1.250739  \n",
       "..      ...          ...   ...         ...  ...       ...         ...  \n",
       "79        0   12459193.0    16           1   17  1.642747   -0.381539  \n",
       "80        0   43647087.0    21           1   22  4.867930    1.519907  \n",
       "81        0     979125.0     3          25   28  0.359460   -1.138117  \n",
       "82        1    5539113.0     9           5   14  2.278421   -0.037136  \n",
       "83        0  108654235.0     4          22   26  2.921606    0.372428  \n",
       "\n",
       "[84 rows x 32 columns]"
      ]
     },
     "execution_count": 5,
     "metadata": {},
     "output_type": "execute_result"
    }
   ],
   "source": [
    "df"
   ]
  },
  {
   "cell_type": "markdown",
   "metadata": {
    "id": "TuguOKGSEAS2"
   },
   "source": [
    "# 군집 0"
   ]
  },
  {
   "cell_type": "code",
   "execution_count": 34,
   "metadata": {
    "id": "qCXhmnw7EBvO"
   },
   "outputs": [],
   "source": [
    "df0 = df[df.cluster == 0]"
   ]
  },
  {
   "cell_type": "code",
   "execution_count": 7,
   "metadata": {},
   "outputs": [],
   "source": [
    "Y=df0['resilience']"
   ]
  },
  {
   "cell_type": "code",
   "execution_count": 8,
   "metadata": {},
   "outputs": [
    {
     "name": "stdout",
     "output_type": "stream",
     "text": [
      "GRDP\n",
      "PearsonRResult(statistic=0.07739440823098817, pvalue=0.6133293292359149)\n",
      "SignificanceResult(statistic=0.10321306253579007, pvalue=0.49986883685164785)\n",
      "SignificanceResult(statistic=0.06103918752987301, pvalue=0.5569676551618405)\n",
      "지방세징수액\n",
      "PearsonRResult(statistic=-0.09321526898462247, pvalue=0.5424984613025927)\n",
      "SignificanceResult(statistic=0.014104467038735042, pvalue=0.9267316963436572)\n",
      "SignificanceResult(statistic=0.012207837505974602, pvalue=0.9064873771461424)\n",
      "총인구수\n",
      "PearsonRResult(statistic=0.07064500303997437, pvalue=0.6446964930150868)\n",
      "SignificanceResult(statistic=-0.04455429774852752, pvalue=0.7713472234278633)\n",
      "SignificanceResult(statistic=-0.030519593764936504, pvalue=0.7690056836842285)\n",
      "주차장\n",
      "PearsonRResult(statistic=-0.16673571603810922, pvalue=0.27364477358936234)\n",
      "SignificanceResult(statistic=0.04983625723519583, pvalue=0.7451006275179821)\n",
      "SignificanceResult(statistic=0.04030114476467833, pvalue=0.7156898216596134)\n",
      "문화시설\n",
      "PearsonRResult(statistic=-0.3094189189202567, pvalue=0.03861214358413607)\n",
      "SignificanceResult(statistic=-0.34013871171028737, pvalue=0.022245600641084343)\n",
      "SignificanceResult(statistic=-0.2429597660484896, pvalue=0.021071849329202207)\n",
      "평균연령\n",
      "PearsonRResult(statistic=-0.06828517114328486, pvalue=0.6558128520239259)\n",
      "SignificanceResult(statistic=-0.05760422519558143, pvalue=0.7070214951466725)\n",
      "SignificanceResult(statistic=-0.0386581521022529, pvalue=0.7099008251539449)\n",
      "직장인구수\n",
      "PearsonRResult(statistic=-0.14887793751032144, pvalue=0.32903795522233953)\n",
      "SignificanceResult(statistic=-0.12290761472241253, pvalue=0.4211980632151151)\n",
      "SignificanceResult(statistic=-0.07723720822041985, pvalue=0.45694693738582026)\n"
     ]
    }
   ],
   "source": [
    "for i in df0.columns[1:8]:\n",
    "    X=df0[i]\n",
    "    print(i)\n",
    "    print(stats.pearsonr(X,Y))\n",
    "    print(stats.spearmanr(X,Y))\n",
    "    print(stats.kendalltau(X,Y))\n"
   ]
  },
  {
   "cell_type": "code",
   "execution_count": 9,
   "metadata": {},
   "outputs": [
    {
     "name": "stdout",
     "output_type": "stream",
     "text": [
      "정류장\n",
      "PearsonRResult(statistic=-0.053325545676043015, pvalue=0.727915236692392)\n",
      "SignificanceResult(statistic=-0.15718125785560697, pvalue=0.3024658427574995)\n",
      "SignificanceResult(statistic=-0.11827107854188881, pvalue=0.2595594871767719)\n",
      "검색량합계\n",
      "PearsonRResult(statistic=0.1478031000762021, pvalue=0.33258114206972444)\n",
      "SignificanceResult(statistic=0.06583630407919042, pvalue=0.6674268715457781)\n",
      "SignificanceResult(statistic=0.03658604599914625, pvalue=0.7245638833308661)\n",
      "전체면적대비도로면적\n",
      "PearsonRResult(statistic=0.12306580317142223, pvalue=0.4205960160282675)\n",
      "SignificanceResult(statistic=0.1464491857947162, pvalue=0.33707798907124786)\n",
      "SignificanceResult(statistic=0.101731979216455, pvalue=0.3276199153950131)\n",
      "대중교통이용량\n",
      "PearsonRResult(statistic=-0.008297665190841423, pvalue=0.9568579118572977)\n",
      "SignificanceResult(statistic=0.10110398335242783, pvalue=0.5087166692990113)\n",
      "SignificanceResult(statistic=0.059004547945543905, pvalue=0.5701890318787779)\n",
      "좌석수\n",
      "PearsonRResult(statistic=0.06782136745866506, pvalue=0.6580064431022733)\n",
      "SignificanceResult(statistic=0.0050069174626081485, pvalue=0.9739597236879742)\n",
      "SignificanceResult(statistic=0.008088982901392039, pvalue=0.937616424346327)\n",
      "예매/취소금액\n",
      "PearsonRResult(statistic=-0.01221080274209748, pvalue=0.9365471062199731)\n",
      "SignificanceResult(statistic=0.048616600790513824, pvalue=0.7511371340288322)\n",
      "SignificanceResult(statistic=0.0202020202020202, pvalue=0.8448869438290553)\n",
      "할인금액\n",
      "PearsonRResult(statistic=-0.1242763264777316, pvalue=0.4160050674137235)\n",
      "SignificanceResult(statistic=0.0005517333226287873, pvalue=0.9971300266767735)\n",
      "SignificanceResult(statistic=0.004494665749754947, pvalue=0.9672646976407532)\n"
     ]
    }
   ],
   "source": [
    "for i in df0.columns[8:15]:\n",
    "    X=df0[i]\n",
    "    print(i)\n",
    "    print(stats.pearsonr(X,Y))\n",
    "    print(stats.spearmanr(X,Y))\n",
    "    print(stats.kendalltau(X,Y))"
   ]
  },
  {
   "cell_type": "code",
   "execution_count": 14,
   "metadata": {},
   "outputs": [
    {
     "name": "stdout",
     "output_type": "stream",
     "text": [
      "장당금액\n",
      "PearsonRResult(statistic=-0.04043430661294899, pvalue=0.7919983035912498)\n",
      "SignificanceResult(statistic=0.0533596837944664, pvalue=0.7277477346874701)\n",
      "SignificanceResult(statistic=0.028282828282828278, pvalue=0.7841576649247053)\n",
      "평균좌석점유율\n",
      "PearsonRResult(statistic=0.18813119423587119, pvalue=0.21586615288521516)\n",
      "SignificanceResult(statistic=0.2146245059288537, pvalue=0.1568369761609794)\n",
      "SignificanceResult(statistic=0.13535353535353534, pvalue=0.18991491804514993)\n",
      "좌석수_합계\n",
      "PearsonRResult(statistic=0.23306430654552504, pvalue=0.12337714854526274)\n",
      "SignificanceResult(statistic=0.2051383399209486, pvalue=0.17643512674341527)\n",
      "SignificanceResult(statistic=0.11919191919191918, pvalue=0.24837156876781552)\n",
      "예매/취소금액_합계\n",
      "PearsonRResult(statistic=0.2509917589714229, pvalue=0.09629942184059585)\n",
      "SignificanceResult(statistic=0.24347826086956517, pvalue=0.10702741131956824)\n",
      "SignificanceResult(statistic=0.1515151515151515, pvalue=0.14228142215219058)\n",
      "할인금액_합계\n",
      "PearsonRResult(statistic=0.08857761450417849, pvalue=0.5628488717608701)\n",
      "SignificanceResult(statistic=-0.002344866621172346, pvalue=0.9878030462753553)\n",
      "SignificanceResult(statistic=0.0, pvalue=1.0)\n",
      "장당금액_합계\n",
      "PearsonRResult(statistic=0.23568427952043805, pvalue=0.11909706360888157)\n",
      "SignificanceResult(statistic=0.2270092226613966, pvalue=0.13371092909092977)\n",
      "SignificanceResult(statistic=0.14343434343434344, pvalue=0.16480556480304343)\n",
      "예매건수_합계\n",
      "PearsonRResult(statistic=0.2469143203098961, pvalue=0.10201326561440857)\n",
      "SignificanceResult(statistic=0.2656126482213439, pvalue=0.0778207024671786)\n",
      "SignificanceResult(statistic=0.16565656565656564, pvalue=0.10864784400144106)\n"
     ]
    }
   ],
   "source": [
    "for i in df0.columns[15:22]:\n",
    "    X=df0[i]\n",
    "    print(i)\n",
    "    print(stats.pearsonr(X,Y))\n",
    "    print(stats.spearmanr(X,Y))\n",
    "    print(stats.kendalltau(X,Y))"
   ]
  },
  {
   "cell_type": "code",
   "execution_count": 15,
   "metadata": {},
   "outputs": [
    {
     "name": "stdout",
     "output_type": "stream",
     "text": [
      "평균좌석점유율_합계\n",
      "PearsonRResult(statistic=0.2335350968434552, pvalue=0.12259963211954585)\n",
      "SignificanceResult(statistic=0.2944664031620553, pvalue=0.04958438814326756)\n",
      "SignificanceResult(statistic=0.18585858585858586, pvalue=0.07186903323934982)\n"
     ]
    }
   ],
   "source": [
    "for i in df0.columns[22:23]:\n",
    "    X=df0[i]\n",
    "    print(i)\n",
    "    print(stats.pearsonr(X,Y))\n",
    "    print(stats.spearmanr(X,Y))\n",
    "    print(stats.kendalltau(X,Y))\n"
   ]
  },
  {
   "cell_type": "code",
   "execution_count": 21,
   "metadata": {},
   "outputs": [
    {
     "data": {
      "text/plain": [
       "Index(['공연시설코드', 'GRDP', '지방세징수액', '총인구수', '주차장', '문화시설', '평균연령', '직장인구수',\n",
       "       '정류장', '검색량합계', '전체면적대비도로면적', '대중교통이용량', '좌석수', '예매/취소금액', '할인금액',\n",
       "       '장당금액', '평균좌석점유율', '좌석수_합계', '예매/취소금액_합계', '할인금액_합계', '장당금액_합계',\n",
       "       '예매건수_합계', '평균좌석점유율_합계', '충격반응력', '충격회복력', 'cluster', 'resilience'],\n",
       "      dtype='object')"
      ]
     },
     "execution_count": 21,
     "metadata": {},
     "output_type": "execute_result"
    }
   ],
   "source": [
    "df0.columns"
   ]
  },
  {
   "cell_type": "markdown",
   "metadata": {},
   "source": [
    "문화시설,예매/취소금액_합계,예매건수_합계,평균좌석점유율_합계"
   ]
  },
  {
   "cell_type": "code",
   "execution_count": 51,
   "metadata": {},
   "outputs": [
    {
     "name": "stderr",
     "output_type": "stream",
     "text": [
      "C:\\Users\\ohke7\\AppData\\Local\\Temp\\ipykernel_15356\\1577671377.py:3: SettingWithCopyWarning: \n",
      "A value is trying to be set on a copy of a slice from a DataFrame\n",
      "\n",
      "See the caveats in the documentation: https://pandas.pydata.org/pandas-docs/stable/user_guide/indexing.html#returning-a-view-versus-a-copy\n",
      "  df0.drop(['공연시설코드','감소폭', '감소기간','최저지점이후회복기간','총기간','평균좌석점유율', 'ratio', '예매/취소금액','장당금액','할인금액','좌석수'], axis=1, inplace=True)\n",
      "c:\\Python310\\lib\\site-packages\\seaborn\\utils.py:80: UserWarning: Glyph 8722 (\\N{MINUS SIGN}) missing from current font.\n",
      "  fig.canvas.draw()\n",
      "C:\\Users\\ohke7\\AppData\\Roaming\\Python\\Python310\\site-packages\\IPython\\core\\pylabtools.py:152: UserWarning: Glyph 8722 (\\N{MINUS SIGN}) missing from current font.\n",
      "  fig.canvas.print_figure(bytes_io, **kw)\n"
     ]
    },
    {
     "data": {
      "image/png": "[encoded data removed]",
      "text/plain": [
       "<Figure size 200x600 with 2 Axes>"
      ]
     },
     "metadata": {},
     "output_type": "display_data"
    }
   ],
   "source": [
    "\n",
    "#시각화\n",
    "df0 = df[df.cluster == 0]\n",
    "df0.drop(['공연시설코드','감소폭', '감소기간','최저지점이후회복기간','총기간','평균좌석점유율', 'ratio', '예매/취소금액','장당금액','할인금액','좌석수'], axis=1, inplace=True)\n",
    "\n",
    "# 변수명 변경 - 가독성을 위함\n",
    "df0.columns = ['GRDP', '지방세징수액', '총인구수', '주차장 개수', '문화시설 개수', '평균연령', '직장인구수',\n",
    "       '정류장 개수', '검색량합계', '전체면적대비도로면적', '대중교통이용량',\n",
    "        '좌석수', '공연매출액','할인금액','장당금액','예매건수','평균좌석점유율','충격반응력', '충격회복력', 'cluster', 'resilience']\n",
    "# 'resili' 변수와 다른 변수들 간의 상관관계 계산\n",
    "correlation_with_resili = df0.corr(method='spearman')['resilience']\n",
    "\n",
    "# 히트맵 시각화\n",
    "plt.figure(figsize=(2, 6))\n",
    "sns.heatmap(correlation_with_resili.drop(['resilience', 'cluster', '충격반응력', '충격회복력']).sort_values(ascending=False).to_frame(), annot=True, cmap='coolwarm' ,vmin=-1, vmax=1)\n",
    "# plt.title('군집0 회복탄력성과 변수의 상관관계', fontsize=13)\n",
    "plt.show()"
   ]
  },
  {
   "cell_type": "markdown",
   "metadata": {
    "id": "YOE1979sGaBM"
   },
   "source": [
    "# 군집 1"
   ]
  },
  {
   "cell_type": "code",
   "execution_count": 32,
   "metadata": {
    "id": "QiPMhiSkCTcl"
   },
   "outputs": [],
   "source": [
    "df1 = df[df.cluster == 1]"
   ]
  },
  {
   "cell_type": "code",
   "execution_count": 17,
   "metadata": {
    "colab": {
     "base_uri": "https://localhost:8080/"
    },
    "id": "Pt2gKlHsIrLv",
    "outputId": "ce8c9022-eb19-439f-f3fb-fce3b41c43b7"
   },
   "outputs": [
    {
     "data": {
      "text/plain": [
       "Index(['공연시설코드', 'GRDP', '지방세징수액', '총인구수', '주차장', '문화시설', '평균연령', '직장인구수',\n",
       "       '정류장', '검색량합계', '전체면적대비도로면적', '대중교통이용량', '좌석수', '예매/취소금액', '할인금액',\n",
       "       '장당금액', '평균좌석점유율', '좌석수_합계', '예매/취소금액_합계', '할인금액_합계', '장당금액_합계',\n",
       "       '예매건수_합계', '평균좌석점유율_합계', '충격반응력', '충격회복력', 'cluster', '감소폭', '감소기간',\n",
       "       '최저지점이후회복기간', '총기간', 'ratio', 'resilience'],\n",
       "      dtype='object')"
      ]
     },
     "execution_count": 17,
     "metadata": {},
     "output_type": "execute_result"
    }
   ],
   "source": [
    "df1.columns"
   ]
  },
  {
   "cell_type": "code",
   "execution_count": 23,
   "metadata": {},
   "outputs": [],
   "source": [
    "Y=df1['resilience']"
   ]
  },
  {
   "cell_type": "code",
   "execution_count": 24,
   "metadata": {},
   "outputs": [
    {
     "name": "stdout",
     "output_type": "stream",
     "text": [
      "GRDP\n",
      "PearsonRResult(statistic=0.2107281366264052, pvalue=0.19785154905389546)\n",
      "SignificanceResult(statistic=0.1806308016017632, pvalue=0.2711492146336809)\n",
      "SignificanceResult(statistic=0.1355947472979094, pvalue=0.22616099921205812)\n",
      "지방세징수액\n",
      "PearsonRResult(statistic=0.1742648448502485, pvalue=0.28868043696454015)\n",
      "SignificanceResult(statistic=0.14418063984355986, pvalue=0.381192671400426)\n",
      "SignificanceResult(statistic=0.09220442816257841, pvalue=0.4105028975578443)\n",
      "총인구수\n",
      "PearsonRResult(statistic=0.24694223410541596, pvalue=0.12963051646623816)\n",
      "SignificanceResult(statistic=0.31083887943801175, pvalue=0.054098789011052736)\n",
      "SignificanceResult(statistic=0.23864675524432058, pvalue=0.03315998745884777)\n",
      "주차장\n",
      "PearsonRResult(statistic=0.037953322231304605, pvalue=0.8185662348834251)\n",
      "SignificanceResult(statistic=0.10956095129245043, pvalue=0.5067222657790681)\n",
      "SignificanceResult(statistic=0.0811594989671255, pvalue=0.50156660337264)\n",
      "문화시설\n",
      "PearsonRResult(statistic=0.15266779366847744, pvalue=0.3534878255717274)\n",
      "SignificanceResult(statistic=0.39172986600789167, pvalue=0.013654955253958143)\n",
      "SignificanceResult(statistic=0.2784942750311448, pvalue=0.01501895100765639)\n",
      "평균연령\n",
      "PearsonRResult(statistic=-0.12859720948834885, pvalue=0.4352683712272465)\n",
      "SignificanceResult(statistic=-0.15896320544549786, pvalue=0.3337486304014019)\n",
      "SignificanceResult(statistic=-0.12203527256811847, pvalue=0.27603194344630955)\n",
      "직장인구수\n",
      "PearsonRResult(statistic=0.05822167243528948, pvalue=0.7247907185970754)\n",
      "SignificanceResult(statistic=0.21797014112482263, pvalue=0.1825224560090794)\n",
      "SignificanceResult(statistic=0.1841581303678405, pvalue=0.09980970825244656)\n"
     ]
    }
   ],
   "source": [
    "for i in df1.columns[1:8]:\n",
    "    X=df1[i]\n",
    "    print(i)\n",
    "    print(stats.pearsonr(X,Y))\n",
    "    print(stats.spearmanr(X,Y))\n",
    "    print(stats.kendalltau(X,Y))"
   ]
  },
  {
   "cell_type": "code",
   "execution_count": 25,
   "metadata": {},
   "outputs": [
    {
     "name": "stdout",
     "output_type": "stream",
     "text": [
      "정류장\n",
      "PearsonRResult(statistic=-0.21183556165648848, pvalue=0.1954508102124032)\n",
      "SignificanceResult(statistic=-0.18823620230622218, pvalue=0.25114086995935925)\n",
      "SignificanceResult(statistic=-0.14931658765212566, pvalue=0.1929792248950204)\n",
      "검색량합계\n",
      "PearsonRResult(statistic=0.2022712001512398, pvalue=0.21686858130856315)\n",
      "SignificanceResult(statistic=0.18780056283629631, pvalue=0.25225952934220636)\n",
      "SignificanceResult(statistic=0.11645293537966385, pvalue=0.2980093076681444)\n",
      "전체면적대비도로면적\n",
      "PearsonRResult(statistic=0.1694376346470966, pvalue=0.3024515115675585)\n",
      "SignificanceResult(statistic=0.19824837978489482, pvalue=0.22634326797592658)\n",
      "SignificanceResult(statistic=0.1383066422438676, pvalue=0.21701164111240434)\n",
      "대중교통이용량\n",
      "PearsonRResult(statistic=0.18496185122032774, pvalue=0.25963043155210397)\n",
      "SignificanceResult(statistic=0.3529590663586023, pvalue=0.02752496822669009)\n",
      "SignificanceResult(statistic=0.2657657047039025, pvalue=0.01768240621872561)\n",
      "좌석수\n",
      "PearsonRResult(statistic=-0.1051265097502804, pvalue=0.524174678581677)\n",
      "SignificanceResult(statistic=-0.14940027348451654, pvalue=0.36400614469996595)\n",
      "SignificanceResult(statistic=-0.09993250083604847, pvalue=0.370661974727438)\n",
      "예매/취소금액\n",
      "PearsonRResult(statistic=0.20550340745581755, pvalue=0.20945691650097623)\n",
      "SignificanceResult(statistic=0.1799595141700405, pvalue=0.27296413515495815)\n",
      "SignificanceResult(statistic=0.12550607287449395, pvalue=0.26058515870606247)\n",
      "할인금액\n",
      "PearsonRResult(statistic=-0.15908831517330688, pvalue=0.3333633968424826)\n",
      "SignificanceResult(statistic=-0.1484782562335404, pvalue=0.3670077543929826)\n",
      "SignificanceResult(statistic=-0.11061517752494635, pvalue=0.36248419515308516)\n"
     ]
    }
   ],
   "source": [
    "for i in df1.columns[8:15]:\n",
    "    X=df1[i]\n",
    "    print(i)\n",
    "    print(stats.pearsonr(X,Y))\n",
    "    print(stats.spearmanr(X,Y))\n",
    "    print(stats.kendalltau(X,Y))"
   ]
  },
  {
   "cell_type": "code",
   "execution_count": 26,
   "metadata": {},
   "outputs": [
    {
     "name": "stdout",
     "output_type": "stream",
     "text": [
      "장당금액\n",
      "PearsonRResult(statistic=0.20416401300505868, pvalue=0.2125065989199714)\n",
      "SignificanceResult(statistic=0.1653846153846154, pvalue=0.3143320891265859)\n",
      "SignificanceResult(statistic=0.11470985155195683, pvalue=0.3038396907278911)\n",
      "평균좌석점유율\n",
      "PearsonRResult(statistic=-0.2947931738291402, pvalue=0.06848403979831902)\n",
      "SignificanceResult(statistic=-0.18319838056680163, pvalue=0.2642806784028036)\n",
      "SignificanceResult(statistic=-0.12010796221322538, pvalue=0.2816493254860488)\n",
      "좌석수_합계\n",
      "PearsonRResult(statistic=-0.2131719758655907, pvalue=0.19258101254519733)\n",
      "SignificanceResult(statistic=-0.1277327935222672, pvalue=0.4383869057353683)\n",
      "SignificanceResult(statistic=-0.0796221322537112, pvalue=0.4754031324799811)\n",
      "예매/취소금액_합계\n",
      "PearsonRResult(statistic=0.021080078098321284, pvalue=0.8986428637314903)\n",
      "SignificanceResult(statistic=-0.007085020242914981, pvalue=0.9658554968834423)\n",
      "SignificanceResult(statistic=-0.004048582995951417, pvalue=0.9710506310772951)\n",
      "할인금액_합계\n",
      "PearsonRResult(statistic=-0.1459357577724056, pvalue=0.3753611140491066)\n",
      "SignificanceResult(statistic=-0.16938067490173025, pvalue=0.30261646578057777)\n",
      "SignificanceResult(statistic=-0.11886523818869946, pvalue=0.3282285032140012)\n",
      "장당금액_합계\n",
      "PearsonRResult(statistic=0.019758501122360137, pvalue=0.9049674002686134)\n",
      "SignificanceResult(statistic=-0.010728744939271256, pvalue=0.9483150334510716)\n",
      "SignificanceResult(statistic=-0.004048582995951417, pvalue=0.9710506310772951)\n",
      "예매건수_합계\n",
      "PearsonRResult(statistic=-0.2203477249684229, pvalue=0.17767909100562201)\n",
      "SignificanceResult(statistic=-0.07894736842105263, pvalue=0.6328408551404183)\n",
      "SignificanceResult(statistic=-0.04183535762483131, pvalue=0.7076581993665555)\n"
     ]
    }
   ],
   "source": [
    "for i in df1.columns[15:22]:\n",
    "    X=df1[i]\n",
    "    print(i)\n",
    "    print(stats.pearsonr(X,Y))\n",
    "    print(stats.spearmanr(X,Y))\n",
    "    print(stats.kendalltau(X,Y))"
   ]
  },
  {
   "cell_type": "code",
   "execution_count": 27,
   "metadata": {},
   "outputs": [
    {
     "name": "stdout",
     "output_type": "stream",
     "text": [
      "평균좌석점유율_합계\n",
      "PearsonRResult(statistic=-0.2158063983378702, pvalue=0.1870111194603379)\n",
      "SignificanceResult(statistic=-0.08724696356275304, pvalue=0.5974029720478503)\n",
      "SignificanceResult(statistic=-0.06882591093117409, pvalue=0.5372739725204689)\n"
     ]
    }
   ],
   "source": [
    "for i in df1.columns[22:23]:\n",
    "    X=df1[i]\n",
    "    print(i)\n",
    "    print(stats.pearsonr(X,Y))\n",
    "    print(stats.spearmanr(X,Y))\n",
    "    print(stats.kendalltau(X,Y))\n"
   ]
  },
  {
   "cell_type": "markdown",
   "metadata": {},
   "source": [
    "총인구수, 문화시설, 직장인구수, 대중교통이용량"
   ]
  },
  {
   "cell_type": "code",
   "execution_count": 50,
   "metadata": {},
   "outputs": [
    {
     "name": "stderr",
     "output_type": "stream",
     "text": [
      "C:\\Users\\ohke7\\AppData\\Local\\Temp\\ipykernel_15356\\3973959435.py:3: SettingWithCopyWarning: \n",
      "A value is trying to be set on a copy of a slice from a DataFrame\n",
      "\n",
      "See the caveats in the documentation: https://pandas.pydata.org/pandas-docs/stable/user_guide/indexing.html#returning-a-view-versus-a-copy\n",
      "  df1.drop(['공연시설코드','감소폭', '감소기간','최저지점이후회복기간','총기간','평균좌석점유율', 'ratio','예매/취소금액_합계','할인금액','장당금액_합계','좌석수'], axis=1, inplace=True)\n",
      "c:\\Python310\\lib\\site-packages\\seaborn\\utils.py:80: UserWarning: Glyph 8722 (\\N{MINUS SIGN}) missing from current font.\n",
      "  fig.canvas.draw()\n",
      "C:\\Users\\ohke7\\AppData\\Roaming\\Python\\Python310\\site-packages\\IPython\\core\\pylabtools.py:152: UserWarning: Glyph 8722 (\\N{MINUS SIGN}) missing from current font.\n",
      "  fig.canvas.print_figure(bytes_io, **kw)\n"
     ]
    },
    {
     "data": {
      "image/png": "[encoded data removed]",
      "text/plain": [
       "<Figure size 200x600 with 2 Axes>"
      ]
     },
     "metadata": {},
     "output_type": "display_data"
    }
   ],
   "source": [
    "\n",
    "#시각화\n",
    "df1 = df[df.cluster == 1]\n",
    "df1.drop(['공연시설코드','감소폭', '감소기간','최저지점이후회복기간','총기간','평균좌석점유율', 'ratio','예매/취소금액_합계','할인금액','장당금액_합계','좌석수'], axis=1, inplace=True)\n",
    "\n",
    "# 변수명 변경 - 가독성을 위함\n",
    "df1.columns = ['GRDP', '지방세징수액', '총인구수', '주차장', '문화시설 개수', '평균연령', '직장인구수',\n",
    "       '정류장 개수', '검색량합계', '전체면적대비도로면적', '대중교통이용량', '공연매출액',\n",
    "       '할인금액', '장당금액', '좌석수' ,'예매건수','평균좌석점유율','충격반응력', '충격회복력', 'cluster', 'resilience']\n",
    "# 'resili' 변수와 다른 변수들 간의 상관관계 계산\n",
    "correlation_with_resili = df1.corr(method='spearman')['resilience']\n",
    "\n",
    "# 히트맵 시각화\n",
    "plt.figure(figsize=(2, 6))\n",
    "sns.heatmap(correlation_with_resili.drop(['resilience', 'cluster', '충격반응력', '충격회복력']).sort_values(ascending=False).to_frame(), annot=True, cmap='coolwarm' ,vmin=-1, vmax=1)\n",
    "# plt.title('군집0 회복탄력성과 변수의 상관관계', fontsize=13)\n",
    "plt.show()"
   ]
  }
 ],
 "metadata": {
  "colab": {
   "provenance": []
  },
  "kernelspec": {
   "display_name": "Python 3 (ipykernel)",
   "language": "python",
   "name": "python3"
  },
  "language_info": {
   "codemirror_mode": {
    "name": "ipython",
    "version": 3
   },
   "file_extension": ".py",
   "mimetype": "text/x-python",
   "name": "python",
   "nbconvert_exporter": "python",
   "pygments_lexer": "ipython3",
   "version": "3.9.12"
  },
  "toc": {
   "base_numbering": 1,
   "nav_menu": {},
   "number_sections": true,
   "sideBar": true,
   "skip_h1_title": false,
   "title_cell": "Table of Contents",
   "title_sidebar": "Contents",
   "toc_cell": false,
   "toc_position": {},
   "toc_section_display": true,
   "toc_window_display": false
  }
 },
 "nbformat": 4,
 "nbformat_minor": 1
}
